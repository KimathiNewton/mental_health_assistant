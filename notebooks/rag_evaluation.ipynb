{
 "cells": [
  {
   "cell_type": "code",
   "execution_count": 1,
   "metadata": {},
   "outputs": [],
   "source": [
    "import pandas as pd\n",
    "import minsearch\n",
    "from groq import Groq\n",
    "from mistralai import Mistral\n",
    "from dotenv import load_dotenv\n",
    "import os"
   ]
  },
  {
   "cell_type": "markdown",
   "metadata": {},
   "source": [
    "## Loading Environment Variables"
   ]
  },
  {
   "cell_type": "code",
   "execution_count": 2,
   "metadata": {},
   "outputs": [
    {
     "data": {
      "text/plain": [
       "True"
      ]
     },
     "execution_count": 2,
     "metadata": {},
     "output_type": "execute_result"
    }
   ],
   "source": [
    "load_dotenv()\n"
   ]
  },
  {
   "cell_type": "code",
   "execution_count": 3,
   "metadata": {},
   "outputs": [],
   "source": [
    "# Access the API keys\n",
    "mistral_api_key = os.getenv(\"MISTRAL_API_KEY\")\n",
    "groq_api_key = os.getenv(\"GROQ_API_KEY\")"
   ]
  },
  {
   "cell_type": "code",
   "execution_count": 4,
   "metadata": {},
   "outputs": [],
   "source": [
    "client = Groq(api_key=groq_api_key)\n",
    "client_mistral=Mistral(api_key=mistral_api_key)"
   ]
  },
  {
   "cell_type": "markdown",
   "metadata": {},
   "source": [
    "## Data Loading"
   ]
  },
  {
   "cell_type": "code",
   "execution_count": 5,
   "metadata": {},
   "outputs": [],
   "source": [
    "df=pd.read_csv(\"../dataset/Mental_Health_FAQ.csv\")"
   ]
  },
  {
   "cell_type": "code",
   "execution_count": 6,
   "metadata": {},
   "outputs": [
    {
     "data": {
      "text/html": [
       "<div>\n",
       "<style scoped>\n",
       "    .dataframe tbody tr th:only-of-type {\n",
       "        vertical-align: middle;\n",
       "    }\n",
       "\n",
       "    .dataframe tbody tr th {\n",
       "        vertical-align: top;\n",
       "    }\n",
       "\n",
       "    .dataframe thead th {\n",
       "        text-align: right;\n",
       "    }\n",
       "</style>\n",
       "<table border=\"1\" class=\"dataframe\">\n",
       "  <thead>\n",
       "    <tr style=\"text-align: right;\">\n",
       "      <th></th>\n",
       "      <th>Question_ID</th>\n",
       "      <th>Questions</th>\n",
       "      <th>Answers</th>\n",
       "    </tr>\n",
       "  </thead>\n",
       "  <tbody>\n",
       "    <tr>\n",
       "      <th>0</th>\n",
       "      <td>1590140</td>\n",
       "      <td>What does it mean to have a mental illness?</td>\n",
       "      <td>Mental illnesses are health conditions that di...</td>\n",
       "    </tr>\n",
       "    <tr>\n",
       "      <th>1</th>\n",
       "      <td>2110618</td>\n",
       "      <td>Who does mental illness affect?</td>\n",
       "      <td>It is estimated that mental illness affects 1 ...</td>\n",
       "    </tr>\n",
       "    <tr>\n",
       "      <th>2</th>\n",
       "      <td>6361820</td>\n",
       "      <td>What causes mental illness?</td>\n",
       "      <td>It is estimated that mental illness affects 1 ...</td>\n",
       "    </tr>\n",
       "    <tr>\n",
       "      <th>3</th>\n",
       "      <td>9434130</td>\n",
       "      <td>What are some of the warning signs of mental i...</td>\n",
       "      <td>Symptoms of mental health disorders vary depen...</td>\n",
       "    </tr>\n",
       "    <tr>\n",
       "      <th>4</th>\n",
       "      <td>7657263</td>\n",
       "      <td>Can people with mental illness recover?</td>\n",
       "      <td>When healing from mental illness, early identi...</td>\n",
       "    </tr>\n",
       "    <tr>\n",
       "      <th>5</th>\n",
       "      <td>1619387</td>\n",
       "      <td>What should I do if I know someone who appears...</td>\n",
       "      <td>Although this website cannot substitute for pr...</td>\n",
       "    </tr>\n",
       "    <tr>\n",
       "      <th>6</th>\n",
       "      <td>1030153</td>\n",
       "      <td>How can I find a mental health professional fo...</td>\n",
       "      <td>Feeling comfortable with the professional you ...</td>\n",
       "    </tr>\n",
       "    <tr>\n",
       "      <th>7</th>\n",
       "      <td>8022026</td>\n",
       "      <td>What treatment options are available?</td>\n",
       "      <td>Just as there are different types of medicatio...</td>\n",
       "    </tr>\n",
       "    <tr>\n",
       "      <th>8</th>\n",
       "      <td>1155199</td>\n",
       "      <td>If I become involved in treatment, what do I n...</td>\n",
       "      <td>Since beginning treatment is a big step for in...</td>\n",
       "    </tr>\n",
       "    <tr>\n",
       "      <th>9</th>\n",
       "      <td>7760466</td>\n",
       "      <td>What is the difference between mental health p...</td>\n",
       "      <td>There are many types of mental health professi...</td>\n",
       "    </tr>\n",
       "  </tbody>\n",
       "</table>\n",
       "</div>"
      ],
      "text/plain": [
       "   Question_ID                                          Questions  \\\n",
       "0      1590140        What does it mean to have a mental illness?   \n",
       "1      2110618                    Who does mental illness affect?   \n",
       "2      6361820                        What causes mental illness?   \n",
       "3      9434130  What are some of the warning signs of mental i...   \n",
       "4      7657263            Can people with mental illness recover?   \n",
       "5      1619387  What should I do if I know someone who appears...   \n",
       "6      1030153  How can I find a mental health professional fo...   \n",
       "7      8022026              What treatment options are available?   \n",
       "8      1155199  If I become involved in treatment, what do I n...   \n",
       "9      7760466  What is the difference between mental health p...   \n",
       "\n",
       "                                             Answers  \n",
       "0  Mental illnesses are health conditions that di...  \n",
       "1  It is estimated that mental illness affects 1 ...  \n",
       "2  It is estimated that mental illness affects 1 ...  \n",
       "3  Symptoms of mental health disorders vary depen...  \n",
       "4  When healing from mental illness, early identi...  \n",
       "5  Although this website cannot substitute for pr...  \n",
       "6  Feeling comfortable with the professional you ...  \n",
       "7  Just as there are different types of medicatio...  \n",
       "8  Since beginning treatment is a big step for in...  \n",
       "9  There are many types of mental health professi...  "
      ]
     },
     "execution_count": 6,
     "metadata": {},
     "output_type": "execute_result"
    }
   ],
   "source": [
    "df.head(10)"
   ]
  },
  {
   "cell_type": "code",
   "execution_count": 7,
   "metadata": {},
   "outputs": [
    {
     "name": "stdout",
     "output_type": "stream",
     "text": [
      "<class 'pandas.core.frame.DataFrame'>\n",
      "RangeIndex: 98 entries, 0 to 97\n",
      "Data columns (total 3 columns):\n",
      " #   Column       Non-Null Count  Dtype \n",
      "---  ------       --------------  ----- \n",
      " 0   Question_ID  98 non-null     int64 \n",
      " 1   Questions    98 non-null     object\n",
      " 2   Answers      98 non-null     object\n",
      "dtypes: int64(1), object(2)\n",
      "memory usage: 2.4+ KB\n"
     ]
    }
   ],
   "source": [
    "df.info()"
   ]
  },
  {
   "cell_type": "code",
   "execution_count": 8,
   "metadata": {},
   "outputs": [],
   "source": [
    "documents=df.to_dict('records')"
   ]
  },
  {
   "cell_type": "code",
   "execution_count": 9,
   "metadata": {},
   "outputs": [
    {
     "data": {
      "text/plain": [
       "{'Question_ID': 1590140,\n",
       " 'Questions': 'What does it mean to have a mental illness?',\n",
       " 'Answers': 'Mental illnesses are health conditions that disrupt a personâ€™s thoughts, emotions, relationships, and daily functioning. They are associated with distress and diminished capacity to engage in the ordinary activities of daily life.\\nMental illnesses fall along a continuum of severity: some are fairly mild and only interfere with some aspects of life, such as certain phobias. On the other end of the spectrum lie serious mental illnesses, which result in major functional impairment and interference with daily life. These include such disorders as major depression, schizophrenia, and bipolar disorder, and may require that the person receives care in a hospital.\\nIt is important to know that mental illnesses are medical conditions that have nothing to do with a personâ€™s character, intelligence, or willpower. Just as diabetes is a disorder of the pancreas, mental illness is a medical condition due to the brainâ€™s biology.\\nSimilarly to how one would treat diabetes with medication and insulin, mental illness is treatable with a combination of medication and social support. These treatments are highly effective, with 70-90 percent of individuals receiving treatment experiencing a reduction in symptoms and an improved quality of life. With the proper treatment, it is very possible for a person with mental illness to be independent and successful.'}"
      ]
     },
     "execution_count": 9,
     "metadata": {},
     "output_type": "execute_result"
    }
   ],
   "source": [
    "documents[0]"
   ]
  },
  {
   "cell_type": "markdown",
   "metadata": {},
   "source": [
    "## Indexing the data Using Minsearch"
   ]
  },
  {
   "cell_type": "code",
   "execution_count": 10,
   "metadata": {},
   "outputs": [
    {
     "name": "stderr",
     "output_type": "stream",
     "text": [
      "  % Total    % Received % Xferd  Average Speed   Time    Time     Time  Current\n",
      "                                 Dload  Upload   Total   Spent    Left  Speed\n",
      "\n",
      "  0     0    0     0    0     0      0      0 --:--:-- --:--:-- --:--:--     0\n",
      "100  3832  100  3832    0     0   4320      0 --:--:-- --:--:-- --:--:--  4344\n",
      "100  3832  100  3832    0     0   4318      0 --:--:-- --:--:-- --:--:--  4344\n"
     ]
    }
   ],
   "source": [
    "!curl -O https://raw.githubusercontent.com/DataTalksClub/llm-zoomcamp/main/01-intro/minsearch.py\n"
   ]
  },
  {
   "cell_type": "code",
   "execution_count": 11,
   "metadata": {},
   "outputs": [
    {
     "data": {
      "text/html": [
       "<div>\n",
       "<style scoped>\n",
       "    .dataframe tbody tr th:only-of-type {\n",
       "        vertical-align: middle;\n",
       "    }\n",
       "\n",
       "    .dataframe tbody tr th {\n",
       "        vertical-align: top;\n",
       "    }\n",
       "\n",
       "    .dataframe thead th {\n",
       "        text-align: right;\n",
       "    }\n",
       "</style>\n",
       "<table border=\"1\" class=\"dataframe\">\n",
       "  <thead>\n",
       "    <tr style=\"text-align: right;\">\n",
       "      <th></th>\n",
       "      <th>Question_ID</th>\n",
       "      <th>Questions</th>\n",
       "      <th>Answers</th>\n",
       "    </tr>\n",
       "  </thead>\n",
       "  <tbody>\n",
       "    <tr>\n",
       "      <th>0</th>\n",
       "      <td>1590140</td>\n",
       "      <td>What does it mean to have a mental illness?</td>\n",
       "      <td>Mental illnesses are health conditions that di...</td>\n",
       "    </tr>\n",
       "    <tr>\n",
       "      <th>1</th>\n",
       "      <td>2110618</td>\n",
       "      <td>Who does mental illness affect?</td>\n",
       "      <td>It is estimated that mental illness affects 1 ...</td>\n",
       "    </tr>\n",
       "    <tr>\n",
       "      <th>2</th>\n",
       "      <td>6361820</td>\n",
       "      <td>What causes mental illness?</td>\n",
       "      <td>It is estimated that mental illness affects 1 ...</td>\n",
       "    </tr>\n",
       "    <tr>\n",
       "      <th>3</th>\n",
       "      <td>9434130</td>\n",
       "      <td>What are some of the warning signs of mental i...</td>\n",
       "      <td>Symptoms of mental health disorders vary depen...</td>\n",
       "    </tr>\n",
       "    <tr>\n",
       "      <th>4</th>\n",
       "      <td>7657263</td>\n",
       "      <td>Can people with mental illness recover?</td>\n",
       "      <td>When healing from mental illness, early identi...</td>\n",
       "    </tr>\n",
       "    <tr>\n",
       "      <th>...</th>\n",
       "      <td>...</td>\n",
       "      <td>...</td>\n",
       "      <td>...</td>\n",
       "    </tr>\n",
       "    <tr>\n",
       "      <th>93</th>\n",
       "      <td>4373204</td>\n",
       "      <td>How do I know if I'm drinking too much?</td>\n",
       "      <td>Sorting out if you are drinking too much can b...</td>\n",
       "    </tr>\n",
       "    <tr>\n",
       "      <th>94</th>\n",
       "      <td>7807643</td>\n",
       "      <td>If cannabis is dangerous, why are we legalizin...</td>\n",
       "      <td>Cannabis smoke, for example, contains cancer-c...</td>\n",
       "    </tr>\n",
       "    <tr>\n",
       "      <th>95</th>\n",
       "      <td>4352464</td>\n",
       "      <td>How can I convince my kids not to use drugs?</td>\n",
       "      <td>You can't. But you can influence their capacit...</td>\n",
       "    </tr>\n",
       "    <tr>\n",
       "      <th>96</th>\n",
       "      <td>6521784</td>\n",
       "      <td>What is the legal status (and evidence) of CBD...</td>\n",
       "      <td>Cannabidiol or CBD is a naturally occurring co...</td>\n",
       "    </tr>\n",
       "    <tr>\n",
       "      <th>97</th>\n",
       "      <td>3221856</td>\n",
       "      <td>What is the evidence on vaping?</td>\n",
       "      <td>\"Vaping\" is the term for using a device where ...</td>\n",
       "    </tr>\n",
       "  </tbody>\n",
       "</table>\n",
       "<p>98 rows × 3 columns</p>\n",
       "</div>"
      ],
      "text/plain": [
       "    Question_ID                                          Questions  \\\n",
       "0       1590140        What does it mean to have a mental illness?   \n",
       "1       2110618                    Who does mental illness affect?   \n",
       "2       6361820                        What causes mental illness?   \n",
       "3       9434130  What are some of the warning signs of mental i...   \n",
       "4       7657263            Can people with mental illness recover?   \n",
       "..          ...                                                ...   \n",
       "93      4373204            How do I know if I'm drinking too much?   \n",
       "94      7807643  If cannabis is dangerous, why are we legalizin...   \n",
       "95      4352464       How can I convince my kids not to use drugs?   \n",
       "96      6521784  What is the legal status (and evidence) of CBD...   \n",
       "97      3221856                    What is the evidence on vaping?   \n",
       "\n",
       "                                              Answers  \n",
       "0   Mental illnesses are health conditions that di...  \n",
       "1   It is estimated that mental illness affects 1 ...  \n",
       "2   It is estimated that mental illness affects 1 ...  \n",
       "3   Symptoms of mental health disorders vary depen...  \n",
       "4   When healing from mental illness, early identi...  \n",
       "..                                                ...  \n",
       "93  Sorting out if you are drinking too much can b...  \n",
       "94  Cannabis smoke, for example, contains cancer-c...  \n",
       "95  You can't. But you can influence their capacit...  \n",
       "96  Cannabidiol or CBD is a naturally occurring co...  \n",
       "97  \"Vaping\" is the term for using a device where ...  \n",
       "\n",
       "[98 rows x 3 columns]"
      ]
     },
     "execution_count": 11,
     "metadata": {},
     "output_type": "execute_result"
    }
   ],
   "source": [
    "df"
   ]
  },
  {
   "cell_type": "code",
   "execution_count": 12,
   "metadata": {},
   "outputs": [],
   "source": [
    "df = df.rename(columns={'Question_ID': 'question_id', 'Questions': 'questions','Answers':'answers'})\n"
   ]
  },
  {
   "cell_type": "code",
   "execution_count": 13,
   "metadata": {},
   "outputs": [
    {
     "data": {
      "text/plain": [
       "Index(['question_id', 'questions', 'answers'], dtype='object')"
      ]
     },
     "execution_count": 13,
     "metadata": {},
     "output_type": "execute_result"
    }
   ],
   "source": [
    "df.columns"
   ]
  },
  {
   "cell_type": "code",
   "execution_count": 14,
   "metadata": {},
   "outputs": [],
   "source": [
    "documents=df.to_dict('records')"
   ]
  },
  {
   "cell_type": "code",
   "execution_count": 15,
   "metadata": {},
   "outputs": [
    {
     "data": {
      "text/plain": [
       "{'question_id': 1590140,\n",
       " 'questions': 'What does it mean to have a mental illness?',\n",
       " 'answers': 'Mental illnesses are health conditions that disrupt a personâ€™s thoughts, emotions, relationships, and daily functioning. They are associated with distress and diminished capacity to engage in the ordinary activities of daily life.\\nMental illnesses fall along a continuum of severity: some are fairly mild and only interfere with some aspects of life, such as certain phobias. On the other end of the spectrum lie serious mental illnesses, which result in major functional impairment and interference with daily life. These include such disorders as major depression, schizophrenia, and bipolar disorder, and may require that the person receives care in a hospital.\\nIt is important to know that mental illnesses are medical conditions that have nothing to do with a personâ€™s character, intelligence, or willpower. Just as diabetes is a disorder of the pancreas, mental illness is a medical condition due to the brainâ€™s biology.\\nSimilarly to how one would treat diabetes with medication and insulin, mental illness is treatable with a combination of medication and social support. These treatments are highly effective, with 70-90 percent of individuals receiving treatment experiencing a reduction in symptoms and an improved quality of life. With the proper treatment, it is very possible for a person with mental illness to be independent and successful.'}"
      ]
     },
     "execution_count": 15,
     "metadata": {},
     "output_type": "execute_result"
    }
   ],
   "source": [
    "documents[0]"
   ]
  },
  {
   "cell_type": "code",
   "execution_count": 16,
   "metadata": {},
   "outputs": [],
   "source": [
    "index=minsearch.Index(\n",
    "    text_fields=['questions', 'answers'],\n",
    "    keyword_fields=[]\n",
    ")"
   ]
  },
  {
   "cell_type": "code",
   "execution_count": 17,
   "metadata": {},
   "outputs": [
    {
     "data": {
      "text/plain": [
       "<minsearch.Index at 0x2c079f00df0>"
      ]
     },
     "execution_count": 17,
     "metadata": {},
     "output_type": "execute_result"
    }
   ],
   "source": [
    "index.fit(documents)"
   ]
  },
  {
   "cell_type": "code",
   "execution_count": 18,
   "metadata": {},
   "outputs": [],
   "source": [
    "query=\"What should I eat if I lost a friend\""
   ]
  },
  {
   "cell_type": "code",
   "execution_count": 122,
   "metadata": {},
   "outputs": [],
   "source": [
    "index.search(query)"
   ]
  },
  {
   "cell_type": "markdown",
   "metadata": {},
   "source": [
    "## Evaluating Retrieval"
   ]
  },
  {
   "cell_type": "code",
   "execution_count": 20,
   "metadata": {},
   "outputs": [],
   "source": [
    "df_questions = pd.read_csv('../dataset/ground_truth_data.csv')"
   ]
  },
  {
   "cell_type": "code",
   "execution_count": 21,
   "metadata": {},
   "outputs": [
    {
     "data": {
      "text/html": [
       "<div>\n",
       "<style scoped>\n",
       "    .dataframe tbody tr th:only-of-type {\n",
       "        vertical-align: middle;\n",
       "    }\n",
       "\n",
       "    .dataframe tbody tr th {\n",
       "        vertical-align: top;\n",
       "    }\n",
       "\n",
       "    .dataframe thead th {\n",
       "        text-align: right;\n",
       "    }\n",
       "</style>\n",
       "<table border=\"1\" class=\"dataframe\">\n",
       "  <thead>\n",
       "    <tr style=\"text-align: right;\">\n",
       "      <th></th>\n",
       "      <th>id</th>\n",
       "      <th>question</th>\n",
       "    </tr>\n",
       "  </thead>\n",
       "  <tbody>\n",
       "    <tr>\n",
       "      <th>0</th>\n",
       "      <td>1590140</td>\n",
       "      <td>How do mental illnesses affect a person's dail...</td>\n",
       "    </tr>\n",
       "    <tr>\n",
       "      <th>1</th>\n",
       "      <td>1590140</td>\n",
       "      <td>What are some examples of serious mental illne...</td>\n",
       "    </tr>\n",
       "    <tr>\n",
       "      <th>2</th>\n",
       "      <td>1590140</td>\n",
       "      <td>Why is it a misconception to associate mental ...</td>\n",
       "    </tr>\n",
       "    <tr>\n",
       "      <th>3</th>\n",
       "      <td>1590140</td>\n",
       "      <td>How are mental illnesses treated, and what is ...</td>\n",
       "    </tr>\n",
       "    <tr>\n",
       "      <th>4</th>\n",
       "      <td>1590140</td>\n",
       "      <td>Can a person with mental illness become indepe...</td>\n",
       "    </tr>\n",
       "  </tbody>\n",
       "</table>\n",
       "</div>"
      ],
      "text/plain": [
       "        id                                           question\n",
       "0  1590140  How do mental illnesses affect a person's dail...\n",
       "1  1590140  What are some examples of serious mental illne...\n",
       "2  1590140  Why is it a misconception to associate mental ...\n",
       "3  1590140  How are mental illnesses treated, and what is ...\n",
       "4  1590140  Can a person with mental illness become indepe..."
      ]
     },
     "execution_count": 21,
     "metadata": {},
     "output_type": "execute_result"
    }
   ],
   "source": [
    "df_questions.head()"
   ]
  },
  {
   "cell_type": "code",
   "execution_count": 22,
   "metadata": {},
   "outputs": [],
   "source": [
    "ground_truth=df_questions.to_dict('records')"
   ]
  },
  {
   "cell_type": "code",
   "execution_count": 23,
   "metadata": {},
   "outputs": [
    {
     "data": {
      "text/plain": [
       "{'id': 1590140,\n",
       " 'question': \"How do mental illnesses affect a person's daily functioning and relationships?\"}"
      ]
     },
     "execution_count": 23,
     "metadata": {},
     "output_type": "execute_result"
    }
   ],
   "source": [
    "ground_truth[0]"
   ]
  },
  {
   "cell_type": "code",
   "execution_count": null,
   "metadata": {},
   "outputs": [],
   "source": []
  },
  {
   "cell_type": "code",
   "execution_count": 24,
   "metadata": {},
   "outputs": [],
   "source": [
    "def search(query):\n",
    "    boost = {}\n",
    "\n",
    "    results = index.search(\n",
    "        query=query,\n",
    "        filter_dict={},\n",
    "        boost_dict=boost,\n",
    "        num_results=10\n",
    "    )\n",
    "\n",
    "    return results"
   ]
  },
  {
   "cell_type": "code",
   "execution_count": 25,
   "metadata": {},
   "outputs": [],
   "source": [
    "def hit_rate(relevance_total):\n",
    "    cnt = 0\n",
    "\n",
    "    for line in relevance_total:\n",
    "        if True in line:\n",
    "            cnt = cnt + 1\n",
    "\n",
    "    return cnt / len(relevance_total)\n",
    "\n",
    "def mrr(relevance_total):\n",
    "    total_score = 0.0\n",
    "\n",
    "    for line in relevance_total:\n",
    "        for rank in range(len(line)):\n",
    "            if line[rank] == True:\n",
    "                total_score = total_score + 1 / (rank + 1)\n",
    "\n",
    "    return total_score / len(relevance_total)\n"
   ]
  },
  {
   "cell_type": "code",
   "execution_count": 26,
   "metadata": {},
   "outputs": [],
   "source": [
    "def precision(relevance_list):\n",
    "    \"\"\"\n",
    "    Precision: Proportion of retrieved documents that are relevant.\n",
    "    \"\"\"\n",
    "    relevant_retrieved = sum(relevance_list)  # True indicates relevance\n",
    "    total_retrieved = len(relevance_list)  # All retrieved documents\n",
    "    if total_retrieved == 0:\n",
    "        return 0.0  # Avoid division by zero\n",
    "    return relevant_retrieved / total_retrieved"
   ]
  },
  {
   "cell_type": "code",
   "execution_count": 27,
   "metadata": {},
   "outputs": [],
   "source": [
    "def recall(relevance_list, total_relevant):\n",
    "    \"\"\"\n",
    "    Recall: Proportion of relevant documents that are retrieved.\n",
    "    \"\"\"\n",
    "    relevant_retrieved = sum(relevance_list)  # True indicates relevance\n",
    "    if total_relevant == 0:\n",
    "        return 0.0  # Avoid division by zero\n",
    "    return relevant_retrieved / total_relevant"
   ]
  },
  {
   "cell_type": "code",
   "execution_count": 28,
   "metadata": {},
   "outputs": [],
   "source": [
    "def evaluate(ground_truth, search_function):\n",
    "    relevance_total = []\n",
    "    precision_scores = []\n",
    "    recall_scores = []\n",
    "\n",
    "    for q in tqdm(ground_truth):\n",
    "        doc_id = q['id']\n",
    "        \n",
    "        # Get search results for this query\n",
    "        results = search_function(q)\n",
    "        \n",
    "        # Check if the correct document (matching question_id) is in the results\n",
    "        relevance = [doc['question_id'] == doc_id for doc in results]\n",
    "        relevance_total.append(relevance)\n",
    "        \n",
    "        # Precision: Fraction of retrieved documents that are relevant\n",
    "        precision_score = precision(relevance)\n",
    "        precision_scores.append(precision_score)\n",
    "        \n",
    "        # Recall: There is only 1 relevant document per query, so recall is either 1 or 0\n",
    "        recall_score = recall(relevance, 1)\n",
    "        recall_scores.append(recall_score)\n",
    "\n",
    "    return {\n",
    "        'hit_rate': hit_rate(relevance_total),\n",
    "        'mrr': mrr(relevance_total),\n",
    "        'precision': sum(precision_scores) / len(precision_scores),  # Average precision\n",
    "        'recall': sum(recall_scores) / len(recall_scores),  # Average recall\n",
    "    }\n"
   ]
  },
  {
   "cell_type": "code",
   "execution_count": 29,
   "metadata": {},
   "outputs": [],
   "source": [
    "from tqdm.auto import tqdm\n"
   ]
  },
  {
   "cell_type": "code",
   "execution_count": 30,
   "metadata": {},
   "outputs": [
    {
     "data": {
      "application/vnd.jupyter.widget-view+json": {
       "model_id": "821a68ff23bb40dc9f9538a3f0b8bb22",
       "version_major": 2,
       "version_minor": 0
      },
      "text/plain": [
       "  0%|          | 0/366 [00:00<?, ?it/s]"
      ]
     },
     "metadata": {},
     "output_type": "display_data"
    },
    {
     "data": {
      "text/plain": [
       "{'hit_rate': 0.9180327868852459,\n",
       " 'mrr': 0.7107739179460493,\n",
       " 'precision': 0.09180327868852516,\n",
       " 'recall': 0.9180327868852459}"
      ]
     },
     "execution_count": 30,
     "metadata": {},
     "output_type": "execute_result"
    }
   ],
   "source": [
    "evaluate(ground_truth, lambda q: search(q['question']))\n"
   ]
  },
  {
   "cell_type": "markdown",
   "metadata": {},
   "source": [
    "High Recall, Low Precision: This suggests that the system is finding most of the relevant documents, but it is also retrieving a lot of irrelevant ones. You might want to focus on improving the precision by better tuning your search algorithm (e.g., improving query relevance, adjusting boosts, or filtering irrelevant results)."
   ]
  },
  {
   "cell_type": "markdown",
   "metadata": {},
   "source": [
    "## Rag Flow"
   ]
  },
  {
   "cell_type": "code",
   "execution_count": 68,
   "metadata": {},
   "outputs": [],
   "source": [
    "prompt_template=\"\"\"\n",
    "You are an expert mental health assistant specialized in providing detailed and accurate answers based on the given context.\n",
    "Answer the QUESTION based on the CONTEXT from our meantal health database.\n",
    "Use only the facts from the CONTEXT when answering the QUESTION.\n",
    "\n",
    "Here is the context:\n",
    "\n",
    "Context: {context}\n",
    "\n",
    "Please answer the following question based on the provided context:\n",
    "\n",
    "Question: {question}\n",
    "\n",
    "Provide a detailed and informative response. Ensure that your answer is clear, concise, and directly addresses the question while being relevant to the context provided.\n",
    "\n",
    "Your response should be in plain text and should not include any code blocks or extra formatting.\n",
    "\n",
    "Answer:\n",
    "\"\"\".strip()\n",
    "def build_prompt(query, search_results):\n",
    "    context = \"\"\n",
    "    \n",
    "    for doc in search_results:\n",
    "        context = context.format(**doc) + \"\\n\\n\"\n",
    "\n",
    "    prompt = prompt_template.format(question=query, context=context).strip()\n",
    "    return prompt\n"
   ]
  },
  {
   "cell_type": "code",
   "execution_count": 132,
   "metadata": {},
   "outputs": [],
   "source": [
    "def llm(prompt,model):\n",
    "        response = client.chat.completions.create(\n",
    "        model=model,\n",
    "        messages=[{\"role\": \"user\", \"content\": prompt}])\n",
    "        return response.choices[0].message.content"
   ]
  },
  {
   "cell_type": "code",
   "execution_count": null,
   "metadata": {},
   "outputs": [],
   "source": []
  },
  {
   "cell_type": "code",
   "execution_count": 70,
   "metadata": {},
   "outputs": [],
   "source": [
    "def rag(query, model='mixtral-8x7b-32768'):\n",
    "    search_results = search(query)\n",
    "    prompt = build_prompt(query, search_results)\n",
    "    #print(prompt)\n",
    "    answer = llm(prompt, model=model)\n",
    "    return answer"
   ]
  },
  {
   "cell_type": "code",
   "execution_count": null,
   "metadata": {},
   "outputs": [],
   "source": [
    "query=\"What should I eat if I lost a friend\""
   ]
  },
  {
   "cell_type": "code",
   "execution_count": 71,
   "metadata": {},
   "outputs": [
    {
     "data": {
      "text/plain": [
       "'I\\'m really sorry to hear that you\\'re going through a tough time. Losing a friend can be very difficult and may cause emotional distress. While I can\\'t replace the support of a friend or provide mental health advice, I can offer some general suggestions about comforting self-care, including nutrition, during this time.\\n\\nIt\\'s important to remember that there isn\\'t a specific \"food\" to eat when coping with the loss of a friend. However, consuming a balanced and nutritious diet can generally contribute to overall well-being and help manage stress. Here are some ideas:\\n\\n1. Include a variety of fruits and vegetables in your meals and snacks. These foods are packed with essential vitamins and minerals as well as dietary fiber, which can aid in digestion.\\n\\n2. Choose whole grains like brown rice, oatmeal, and whole-wheat bread. They provide long-lasting energy, support healthy blood sugar levels, and are rich in B vitamins that can help with stress management.\\n\\n3. Consume lean proteins, such as chicken, turkey, fish, and legumes (like chickpeas, lentils, and black beans). Protein is necessary for maintaining and repairing body tissues, and it plays a crucial role in the production of neurotransmitters that regulate mood and cognition.\\n\\n4. Don\\'t forget healthy fats from sources like nuts, seeds, avocados, and olive oil. They promote heart health, help absorb fat-soluble vitamins, and can support brain health.\\n\\n5. Stay hydrated by drinking water, herbal tea, or other non-caffeinated, sugar-free beverages. Proper hydration contributes to optimal organ function and overall well-being.\\n\\nKeep in mind that self-care goes beyond nutrition. Make sure you get enough sleep, practice relaxation techniques (like deep breathing, meditation, or progressive muscle relaxation), and engage in activities that bring you comfort and joy. Reach out to other trusted friends and family members for emotional support as well. If you continue feeling overwhelmed, consider seeking professional mental health services. Looking after yourself during this challenging time is essential, and taking small steps towards self-care can make a significant difference.'"
      ]
     },
     "execution_count": 71,
     "metadata": {},
     "output_type": "execute_result"
    }
   ],
   "source": [
    "rag(query)"
   ]
  },
  {
   "cell_type": "markdown",
   "metadata": {},
   "source": [
    "## Rag Evaluation"
   ]
  },
  {
   "cell_type": "code",
   "execution_count": 64,
   "metadata": {},
   "outputs": [],
   "source": [
    "prompt2_template = \"\"\"\n",
    "You are an expert evaluator for a RAG system.\n",
    "Your task is to analyze the relevance of the generated answer to the given question.\n",
    "Based on the relevance of the generated answer, you will classify it\n",
    "as \"NON_RELEVANT\", \"PARTLY_RELEVANT\", or \"RELEVANT\".\n",
    "\n",
    "Here is the data for evaluation:\n",
    "\n",
    "Question: {question}\n",
    "Generated Answer: {answer_llm}\n",
    "\n",
    "Please analyze the content and context of the generated answer in relation to the question\n",
    "and provide your evaluation in parsable JSON without using code blocks:\n",
    "\n",
    "{{\n",
    "  \"Relevance\": \"NON_RELEVANT\" | \"PARTLY_RELEVANT\" | \"RELEVANT\",\n",
    "  \"Explanation\": \"[Provide a brief explanation for your evaluation]\"\n",
    "}}\n",
    "\"\"\".strip()\n"
   ]
  },
  {
   "cell_type": "code",
   "execution_count": 41,
   "metadata": {},
   "outputs": [
    {
     "data": {
      "text/plain": [
       "366"
      ]
     },
     "execution_count": 41,
     "metadata": {},
     "output_type": "execute_result"
    }
   ],
   "source": [
    "len(ground_truth)"
   ]
  },
  {
   "cell_type": "code",
   "execution_count": 43,
   "metadata": {},
   "outputs": [
    {
     "data": {
      "text/plain": [
       "{'id': 1590140,\n",
       " 'question': \"How do mental illnesses affect a person's daily functioning and relationships?\"}"
      ]
     },
     "execution_count": 43,
     "metadata": {},
     "output_type": "execute_result"
    }
   ],
   "source": [
    "ground_truth[0]"
   ]
  },
  {
   "cell_type": "code",
   "execution_count": 44,
   "metadata": {},
   "outputs": [],
   "source": [
    "record=ground_truth[0]\n",
    "question=record[\"question\"]\n",
    "answer_llm=rag(question)"
   ]
  },
  {
   "cell_type": "code",
   "execution_count": 65,
   "metadata": {},
   "outputs": [
    {
     "name": "stdout",
     "output_type": "stream",
     "text": [
      "You are an expert evaluator for a RAG system.\n",
      "Your task is to analyze the relevance of the generated answer to the given question.\n",
      "Based on the relevance of the generated answer, you will classify it\n",
      "as \"NON_RELEVANT\", \"PARTLY_RELEVANT\", or \"RELEVANT\".\n",
      "\n",
      "Here is the data for evaluation:\n",
      "\n",
      "Question: How do mental illnesses affect a person's daily functioning and relationships?\n",
      "Generated Answer: Mental illnesses can significantly impact a person's daily functioning and relationships in various ways. According to the context provided, mental health conditions may affect an individual's ability to perform daily tasks, maintain social connections, and manage their emotions.\n",
      "\n",
      "Firstly, mental illnesses can make it challenging for a person to carry out routine activities. They might struggle with concentrating on work or school tasks, leading to reduced productivity and potential job loss or academic difficulties. Additionally, mental health issues can cause problems with time management, decision-making, and organization, further impacting daily functioning (National Institute of Mental Health [NIMH], n.d.).\n",
      "\n",
      "Secondly, mental illnesses can negatively affect an individual's relationships. The symptoms of mental health conditions may lead to social isolation, withdrawal from friends and family, and difficulties in communication. For example, a person with depression might lose interest in socializing, while someone with anxiety could experience fear or avoidance of social situations. Furthermore, the context highlights that mental health issues can result in irritability, mood swings, and emotional instability, which may cause conflicts and strain relationships with loved ones (NIMH, n.d.).\n",
      "\n",
      "In summary, mental illnesses can hinder an individual's daily functioning by affecting their ability to perform routine tasks and manage their emotions. They can also negatively impact relationships due to social withdrawal, communication difficulties, and emotional instability. It is crucial to address mental health concerns promptly to mitigate these potential consequences.\n",
      "\n",
      "Source:\n",
      "NIMH. (n.d.). Mental health information. National Institute of Mental Health. Retrieved from https://www.nimh.nih.gov/health/topics/index.shtml\n",
      "\n",
      "Please analyze the content and context of the generated answer in relation to the question\n",
      "and provide your evaluation in parsable JSON without using code blocks:\n",
      "\n",
      "{\n",
      "  \"Relevance\": \"NON_RELEVANT\" | \"PARTLY_RELEVANT\" | \"RELEVANT\",\n",
      "  \"Explanation\": \"[Provide a brief explanation for your evaluation]\"\n",
      "}\n"
     ]
    }
   ],
   "source": [
    "prompt=prompt2_template.format(question=question,answer_llm=answer_llm)\n",
    "print(prompt)"
   ]
  },
  {
   "cell_type": "code",
   "execution_count": 77,
   "metadata": {},
   "outputs": [
    {
     "data": {
      "application/vnd.jupyter.widget-view+json": {
       "model_id": "b9005a955c62486898d32bc170913d5c",
       "version_major": 2,
       "version_minor": 0
      },
      "text/plain": [
       "  0%|          | 0/366 [00:00<?, ?it/s]"
      ]
     },
     "metadata": {},
     "output_type": "display_data"
    }
   ],
   "source": [
    "from tqdm.auto import tqdm\n",
    "import json\n",
    "\n",
    "evaluations=[]\n",
    "\n",
    "for record in tqdm(ground_truth):\n",
    "    id=record['id']\n",
    "    if id in evaluations:\n",
    "        continue\n",
    "    question=record['question']\n",
    "    answer_llm=rag(question)\n",
    "    prompt=prompt2_template.format(\n",
    "        question=question,\n",
    "        answer_llm=answer_llm)\n",
    "    evaluation=llm(prompt,model='mixtral-8x7b-32768')\n",
    "    evaluation = json.loads(evaluation)\n",
    "    evaluations.append((record,answer_llm,evaluation))\n",
    "    \n",
    "    "
   ]
  },
  {
   "cell_type": "code",
   "execution_count": 79,
   "metadata": {},
   "outputs": [],
   "source": [
    "df_eval = pd.DataFrame(evaluations, columns=['record', 'answer', 'evaluation'])\n"
   ]
  },
  {
   "cell_type": "code",
   "execution_count": 80,
   "metadata": {},
   "outputs": [
    {
     "data": {
      "text/html": [
       "<div>\n",
       "<style scoped>\n",
       "    .dataframe tbody tr th:only-of-type {\n",
       "        vertical-align: middle;\n",
       "    }\n",
       "\n",
       "    .dataframe tbody tr th {\n",
       "        vertical-align: top;\n",
       "    }\n",
       "\n",
       "    .dataframe thead th {\n",
       "        text-align: right;\n",
       "    }\n",
       "</style>\n",
       "<table border=\"1\" class=\"dataframe\">\n",
       "  <thead>\n",
       "    <tr style=\"text-align: right;\">\n",
       "      <th></th>\n",
       "      <th>record</th>\n",
       "      <th>answer</th>\n",
       "      <th>evaluation</th>\n",
       "    </tr>\n",
       "  </thead>\n",
       "  <tbody>\n",
       "    <tr>\n",
       "      <th>0</th>\n",
       "      <td>{'id': 1590140, 'question': 'How do mental ill...</td>\n",
       "      <td>Mental illnesses can significantly affect a pe...</td>\n",
       "      <td>{'Relevance': 'RELEVANT', 'Explanation': 'The ...</td>\n",
       "    </tr>\n",
       "    <tr>\n",
       "      <th>1</th>\n",
       "      <td>{'id': 1590140, 'question': 'What are some exa...</td>\n",
       "      <td>Sure, based on the context provided, some exam...</td>\n",
       "      <td>{'Relevance': 'RELEVANT', 'Explanation': 'The ...</td>\n",
       "    </tr>\n",
       "    <tr>\n",
       "      <th>2</th>\n",
       "      <td>{'id': 1590140, 'question': 'Why is it a misco...</td>\n",
       "      <td>Mental illness is not a reflection of a person...</td>\n",
       "      <td>{'Relevance': 'RELEVANT', 'Explanation': 'The ...</td>\n",
       "    </tr>\n",
       "    <tr>\n",
       "      <th>3</th>\n",
       "      <td>{'id': 1590140, 'question': 'How are mental il...</td>\n",
       "      <td>Mental illnesses are treated using a variety o...</td>\n",
       "      <td>{'Relevance': 'RELEVANT', 'Explanation': 'The ...</td>\n",
       "    </tr>\n",
       "    <tr>\n",
       "      <th>4</th>\n",
       "      <td>{'id': 1590140, 'question': 'Can a person with...</td>\n",
       "      <td>Yes, a person with a mental illness can certai...</td>\n",
       "      <td>{'Relevance': 'RELEVANT', 'Explanation': 'The ...</td>\n",
       "    </tr>\n",
       "  </tbody>\n",
       "</table>\n",
       "</div>"
      ],
      "text/plain": [
       "                                              record  \\\n",
       "0  {'id': 1590140, 'question': 'How do mental ill...   \n",
       "1  {'id': 1590140, 'question': 'What are some exa...   \n",
       "2  {'id': 1590140, 'question': 'Why is it a misco...   \n",
       "3  {'id': 1590140, 'question': 'How are mental il...   \n",
       "4  {'id': 1590140, 'question': 'Can a person with...   \n",
       "\n",
       "                                              answer  \\\n",
       "0  Mental illnesses can significantly affect a pe...   \n",
       "1  Sure, based on the context provided, some exam...   \n",
       "2  Mental illness is not a reflection of a person...   \n",
       "3  Mental illnesses are treated using a variety o...   \n",
       "4  Yes, a person with a mental illness can certai...   \n",
       "\n",
       "                                          evaluation  \n",
       "0  {'Relevance': 'RELEVANT', 'Explanation': 'The ...  \n",
       "1  {'Relevance': 'RELEVANT', 'Explanation': 'The ...  \n",
       "2  {'Relevance': 'RELEVANT', 'Explanation': 'The ...  \n",
       "3  {'Relevance': 'RELEVANT', 'Explanation': 'The ...  \n",
       "4  {'Relevance': 'RELEVANT', 'Explanation': 'The ...  "
      ]
     },
     "execution_count": 80,
     "metadata": {},
     "output_type": "execute_result"
    }
   ],
   "source": [
    "df_eval.head()"
   ]
  },
  {
   "cell_type": "code",
   "execution_count": 86,
   "metadata": {},
   "outputs": [],
   "source": [
    "df_eval = pd.DataFrame(evaluations, columns=['record', 'answer', 'evaluation'])\n",
    "\n",
    "df_eval['id'] = df_eval.record.apply(lambda d: d['id'])\n",
    "df_eval['question'] = df_eval.record.apply(lambda d: d['question'])\n",
    "\n",
    "df_eval['relevance'] = df_eval.evaluation.apply(lambda d: d['Relevance'])\n",
    "df_eval['explanation'] = df_eval.evaluation.apply(lambda d: d['Explanation'])\n",
    "\n",
    "del df_eval['record']\n",
    "del df_eval['evaluation']"
   ]
  },
  {
   "cell_type": "code",
   "execution_count": 89,
   "metadata": {
    "scrolled": true
   },
   "outputs": [
    {
     "data": {
      "text/html": [
       "<div>\n",
       "<style scoped>\n",
       "    .dataframe tbody tr th:only-of-type {\n",
       "        vertical-align: middle;\n",
       "    }\n",
       "\n",
       "    .dataframe tbody tr th {\n",
       "        vertical-align: top;\n",
       "    }\n",
       "\n",
       "    .dataframe thead th {\n",
       "        text-align: right;\n",
       "    }\n",
       "</style>\n",
       "<table border=\"1\" class=\"dataframe\">\n",
       "  <thead>\n",
       "    <tr style=\"text-align: right;\">\n",
       "      <th></th>\n",
       "      <th>id</th>\n",
       "      <th>answer</th>\n",
       "      <th>question</th>\n",
       "      <th>relevance</th>\n",
       "      <th>explanation</th>\n",
       "    </tr>\n",
       "  </thead>\n",
       "  <tbody>\n",
       "    <tr>\n",
       "      <th>0</th>\n",
       "      <td>1590140</td>\n",
       "      <td>Mental illnesses can significantly affect a pe...</td>\n",
       "      <td>How do mental illnesses affect a person's dail...</td>\n",
       "      <td>RELEVANT</td>\n",
       "      <td>The generated answer is relevant to the questi...</td>\n",
       "    </tr>\n",
       "    <tr>\n",
       "      <th>1</th>\n",
       "      <td>1590140</td>\n",
       "      <td>Sure, based on the context provided, some exam...</td>\n",
       "      <td>What are some examples of serious mental illne...</td>\n",
       "      <td>RELEVANT</td>\n",
       "      <td>The generated answer provides three clear exam...</td>\n",
       "    </tr>\n",
       "    <tr>\n",
       "      <th>2</th>\n",
       "      <td>1590140</td>\n",
       "      <td>Mental illness is not a reflection of a person...</td>\n",
       "      <td>Why is it a misconception to associate mental ...</td>\n",
       "      <td>RELEVANT</td>\n",
       "      <td>The generated answer is highly relevant to the...</td>\n",
       "    </tr>\n",
       "    <tr>\n",
       "      <th>3</th>\n",
       "      <td>1590140</td>\n",
       "      <td>Mental illnesses are treated using a variety o...</td>\n",
       "      <td>How are mental illnesses treated, and what is ...</td>\n",
       "      <td>RELEVANT</td>\n",
       "      <td>The generated answer is relevant as it explain...</td>\n",
       "    </tr>\n",
       "    <tr>\n",
       "      <th>4</th>\n",
       "      <td>1590140</td>\n",
       "      <td>Yes, a person with a mental illness can certai...</td>\n",
       "      <td>Can a person with mental illness become indepe...</td>\n",
       "      <td>RELEVANT</td>\n",
       "      <td>The generated answer directly addresses the qu...</td>\n",
       "    </tr>\n",
       "  </tbody>\n",
       "</table>\n",
       "</div>"
      ],
      "text/plain": [
       "        id                                             answer  \\\n",
       "0  1590140  Mental illnesses can significantly affect a pe...   \n",
       "1  1590140  Sure, based on the context provided, some exam...   \n",
       "2  1590140  Mental illness is not a reflection of a person...   \n",
       "3  1590140  Mental illnesses are treated using a variety o...   \n",
       "4  1590140  Yes, a person with a mental illness can certai...   \n",
       "\n",
       "                                            question relevance  \\\n",
       "0  How do mental illnesses affect a person's dail...  RELEVANT   \n",
       "1  What are some examples of serious mental illne...  RELEVANT   \n",
       "2  Why is it a misconception to associate mental ...  RELEVANT   \n",
       "3  How are mental illnesses treated, and what is ...  RELEVANT   \n",
       "4  Can a person with mental illness become indepe...  RELEVANT   \n",
       "\n",
       "                                         explanation  \n",
       "0  The generated answer is relevant to the questi...  \n",
       "1  The generated answer provides three clear exam...  \n",
       "2  The generated answer is highly relevant to the...  \n",
       "3  The generated answer is relevant as it explain...  \n",
       "4  The generated answer directly addresses the qu...  "
      ]
     },
     "execution_count": 89,
     "metadata": {},
     "output_type": "execute_result"
    }
   ],
   "source": [
    "df_eval.head()"
   ]
  },
  {
   "cell_type": "code",
   "execution_count": 91,
   "metadata": {},
   "outputs": [
    {
     "name": "stdout",
     "output_type": "stream",
     "text": [
      "relevance\n",
      "RELEVANT           346\n",
      "PARTLY_RELEVANT     18\n",
      "NON_RELEVANT         1\n",
      "RELEVELANT           1\n",
      "Name: count, dtype: int64\n"
     ]
    }
   ],
   "source": [
    "# Count the occurrences of each relevance category\n",
    "relevance_counts = df_eval['relevance'].value_counts()\n",
    "print(relevance_counts)\n"
   ]
  },
  {
   "cell_type": "code",
   "execution_count": 126,
   "metadata": {},
   "outputs": [
    {
     "ename": "ModuleNotFoundError",
     "evalue": "No module named 'seaborn'",
     "output_type": "error",
     "traceback": [
      "\u001b[1;31m---------------------------------------------------------------------------\u001b[0m",
      "\u001b[1;31mModuleNotFoundError\u001b[0m                       Traceback (most recent call last)",
      "Cell \u001b[1;32mIn[126], line 2\u001b[0m\n\u001b[0;32m      1\u001b[0m \u001b[38;5;28;01mimport\u001b[39;00m \u001b[38;5;21;01mmatplotlib\u001b[39;00m\u001b[38;5;21;01m.\u001b[39;00m\u001b[38;5;21;01mpyplot\u001b[39;00m \u001b[38;5;28;01mas\u001b[39;00m \u001b[38;5;21;01mplt\u001b[39;00m\n\u001b[1;32m----> 2\u001b[0m \u001b[38;5;28;01mimport\u001b[39;00m \u001b[38;5;21;01mseaborn\u001b[39;00m \u001b[38;5;28;01mas\u001b[39;00m \u001b[38;5;21;01msns\u001b[39;00m\n\u001b[0;32m      4\u001b[0m \u001b[38;5;66;03m# Bar plot for relevance counts\u001b[39;00m\n\u001b[0;32m      5\u001b[0m plt\u001b[38;5;241m.\u001b[39mfigure(figsize\u001b[38;5;241m=\u001b[39m(\u001b[38;5;241m8\u001b[39m, \u001b[38;5;241m5\u001b[39m))\n",
      "\u001b[1;31mModuleNotFoundError\u001b[0m: No module named 'seaborn'"
     ]
    }
   ],
   "source": [
    "import matplotlib.pyplot as plt\n",
    "import seaborn as sns\n",
    "\n",
    "# Bar plot for relevance counts\n",
    "plt.figure(figsize=(8, 5))\n",
    "sns.countplot(data=df_eval, x='relevance', palette='viridis')\n",
    "plt.title('Count of Relevance Categories')\n",
    "plt.xlabel('Relevance')\n",
    "plt.ylabel('Count')\n",
    "plt.show()\n"
   ]
  },
  {
   "cell_type": "code",
   "execution_count": 100,
   "metadata": {},
   "outputs": [
    {
     "name": "stdout",
     "output_type": "stream",
     "text": [
      "Installing seaborn..."
     ]
    },
    {
     "name": "stderr",
     "output_type": "stream",
     "text": [
      "Loading .env environment variables...\n"
     ]
    },
    {
     "name": "stdout",
     "output_type": "stream",
     "text": [
      "\n",
      "Resolving seaborn...\n",
      "[    ] Installing...\n",
      "Installation Succeeded\n",
      "[    ] Installing seaborn...\n",
      "[    ] Installing seaborn...\n",
      "\n",
      "Installing dependencies from Pipfile.lock (153417)...\n"
     ]
    }
   ],
   "source": [
    "!pipenv install seaborn"
   ]
  },
  {
   "cell_type": "code",
   "execution_count": 123,
   "metadata": {},
   "outputs": [
    {
     "data": {
      "text/html": [
       "<div>\n",
       "<style scoped>\n",
       "    .dataframe tbody tr th:only-of-type {\n",
       "        vertical-align: middle;\n",
       "    }\n",
       "\n",
       "    .dataframe tbody tr th {\n",
       "        vertical-align: top;\n",
       "    }\n",
       "\n",
       "    .dataframe thead th {\n",
       "        text-align: right;\n",
       "    }\n",
       "</style>\n",
       "<table border=\"1\" class=\"dataframe\">\n",
       "  <thead>\n",
       "    <tr style=\"text-align: right;\">\n",
       "      <th></th>\n",
       "      <th>id</th>\n",
       "      <th>answer</th>\n",
       "      <th>question</th>\n",
       "      <th>relevance</th>\n",
       "      <th>explanation</th>\n",
       "    </tr>\n",
       "  </thead>\n",
       "  <tbody>\n",
       "    <tr>\n",
       "      <th>0</th>\n",
       "      <td>1590140</td>\n",
       "      <td>Mental illnesses can significantly affect a person's daily functioning and relationships in various ways. \\n\\nIn terms of daily functioning, mental illnesses can cause difficulties with concentration, memory, and decision-making, making it challenging to perform routine tasks or handle responsibilities at work or school. They can also lead to changes in sleep patterns, appetite, and energy levels, which can impact a person's ability to maintain a regular schedule or engage in daily activities. Furthermore, mental illnesses can result in physical symptoms such as fatigue, headaches, and stomachaches, which can exacerbate functional impairments.\\n\\nRegarding relationships, mental illnesses can affect a person's ability to communicate effectively, leading to misunderstandings or conflicts with others. They can also cause changes in mood and behavior that may be perceived as unpredictable or unreliable, making it difficult to form and maintain close relationships. In some cases, mental illnesses may lead to social isolation or withdrawal due to feelings of shame, stigma, or fear of rejection.\\n\\nAdditionally, mental illnesses can have a ripple effect on the relationships of family members and friends, who may experience stress, frustration, and burden as they try to support their loved one. This can lead to strained relationships or even family dysfunction if left unaddressed.\\n\\nOverall, mental illnesses can have far-reaching impacts on a person's daily functioning and relationships, highlighting the importance of seeking appropriate treatment and support.</td>\n",
       "      <td>How do mental illnesses affect a person's daily functioning and relationships?</td>\n",
       "      <td>RELEVANT</td>\n",
       "      <td>The generated answer is relevant to the question as it provides detailed information about how mental illnesses can affect a person's daily functioning and relationships. It covers various aspects such as cognitive difficulties, changes in sleep patterns, communication problems, mood changes, and the impact on family and friends. The answer is comprehensive and directly addresses the question posed.</td>\n",
       "    </tr>\n",
       "    <tr>\n",
       "      <th>1</th>\n",
       "      <td>1590140</td>\n",
       "      <td>Sure, based on the context provided, some examples of serious mental illnesses that can result in major functional impairment include Schizophrenia, Bipolar Disorder, and Major Depressive Disorder.\\n\\n1. Schizophrenia: This is a chronic and severe mental disorder that affects how a person thinks, feels, and behaves. People with schizophrenia may have difficulty distinguishing reality from fantasy, which can lead to hallucinations, delusions, and paranoia. This can significantly impair their ability to function in daily life, including work, school, and social relationships.\\n\\n2. Bipolar Disorder: This is a mental health condition that causes extreme mood swings that include emotional highs (manic or hypomanic episodes) and lows (depressive episodes). These mood swings can significantly affect a person's energy, activity, judgment, behavior, and ability to carry out day-to-day tasks.\\n\\n3. Major Depressive Disorder: This is a severe form of depression that can prevent a person from functioning normally. It can cause persistent feelings of sadness, hopelessness, and a lack of interest or pleasure in activities. It can also lead to significant weight loss or gain, insomnia or oversleeping, fatigue, feelings of worthlessness or guilt, and difficulty thinking, concentrating, or making decisions.\\n\\nThese mental illnesses can be managed with appropriate treatment, which may include medication, therapy, or a combination of both. Early identification and treatment can help reduce the impact of these illnesses on a person's ability to function in daily life.</td>\n",
       "      <td>What are some examples of serious mental illnesses that can result in major functional impairment?</td>\n",
       "      <td>RELEVANT</td>\n",
       "      <td>The generated answer provides three clear examples of serious mental illnesses that can result in major functional impairment, which directly answers the question. The answer also provides a brief description of each illness and its potential impact on a person's ability to function in daily life, adding to the relevance and value of the answer.</td>\n",
       "    </tr>\n",
       "    <tr>\n",
       "      <th>2</th>\n",
       "      <td>1590140</td>\n",
       "      <td>Mental illness is not a reflection of a person's character, intelligence, or willpower. This is a misconception because mental health conditions are caused by a complex interplay of genetic, biological, environmental, and psychological factors. They are not choices or moral failings. In fact, people with mental illness are often highly intelligent, creative, and resilient individuals. However, the symptoms of their illness can significantly impact their ability to function in daily life, regardless of their personal strength or character. Furthermore, blaming a person with mental illness for their condition can lead to stigma, discrimination, and delayed help-seeking behaviors, which can exacerbate their symptoms and make recovery more difficult. Therefore, it is essential to view mental illness as a legitimate medical condition that requires compassion, understanding, and appropriate professional treatment.</td>\n",
       "      <td>Why is it a misconception to associate mental illness with a person's character, intelligence, or willpower?</td>\n",
       "      <td>RELEVANT</td>\n",
       "      <td>The generated answer is highly relevant to the question as it directly addresses the misconception of associating mental illness with a person's character, intelligence, or willpower. It explains the various factors that cause mental health conditions, debunks the misconception, and highlights the negative consequences of holding such beliefs. Furthermore, it emphasizes the importance of viewing mental illness as a medical condition requiring compassion and understanding.</td>\n",
       "    </tr>\n",
       "    <tr>\n",
       "      <th>3</th>\n",
       "      <td>1590140</td>\n",
       "      <td>Mental illnesses are treated using a variety of methods, and the success rate of these treatments can vary depending on the specific illness, the individual's circumstances, and the treatment approach. \\n\\nThe context provided mentions psychotherapy, medication, and brain stimulation therapy as common treatment methods. \\n\\nPsychotherapy, also known as talk therapy, involves working with a mental health professional to understand and manage mental health symptoms. This can be done individually or in a group setting. The success rate of psychotherapy depends on the individual and the type of therapy used, but research shows that it can be very effective for many people.\\n\\nMedication is another common treatment for mental illnesses. Different medications are used to treat different illnesses, and they can be very effective when used correctly. However, they may not work for everyone, and they can have side effects. \\n\\nBrain stimulation therapy is a less common treatment method, but it can be very effective for certain illnesses. This can include techniques like electroconvulsive therapy (ECT) and repetitive transcranial magnetic stimulation (rTMS). \\n\\nThe context also mentions that early intervention and a comprehensive treatment plan can improve the success rate of these treatments. This means that starting treatment as early as possible and using a combination of different treatment methods can lead to better outcomes.\\n\\nHowever, it's important to note that there is no one-size-fits-all treatment for mental illness. Each person is unique, and what works for one person may not work for another. It's also important to remember that recovery from a mental illness is often a journey, and it may take time to find the right treatment approach.</td>\n",
       "      <td>How are mental illnesses treated, and what is the success rate of these treatments?</td>\n",
       "      <td>RELEVANT</td>\n",
       "      <td>The generated answer is relevant as it explains that mental illnesses are treated using various methods and the success rate can vary. It mentions psychotherapy, medication, and brain stimulation therapy as common treatment methods, which aligns with the context provided.</td>\n",
       "    </tr>\n",
       "    <tr>\n",
       "      <th>4</th>\n",
       "      <td>1590140</td>\n",
       "      <td>Yes, a person with a mental illness can certainly become independent and successful with proper treatment. It's important to remember that mental illnesses are not a sign of weakness, and they do not define a person's abilities or potential. With the right support, care, and resources, individuals with mental illness can lead fulfilling and successful lives.\\n\\nThe context provided highlights a few key points that support this answer:\\n\\n1. Early and accurate diagnosis: Receiving the correct diagnosis can help guide the individual towards the most effective treatment paths, enabling them to manage their symptoms more effectively.\\n\\n2. Access to mental health services: With proper treatment options, including therapy, counseling, support groups, and medications, individuals can learn to manage their symptoms and develop coping strategies that promote independence.\\n\\n3. Personal commitment and resilience: The person's determination and resilience play a significant role in their recovery. Engaging in treatment and practicing self-care can empower individuals to take control of their lives.\\n\\n4. Stigma reduction: Breaking the stigma surrounding mental illness can help create a supportive environment for individuals to seek help and work towards personal success. It's essential to foster understanding, empathy, and inclusive communities to help those on their recovery journey.\\n\\nIn conclusion, with the right combination of evidence-based treatments, support, personal commitment, and a reduction of stigma, a person with a mental illness can undoubtedly achieve independence and success.</td>\n",
       "      <td>Can a person with mental illness become independent and successful with proper treatment?</td>\n",
       "      <td>RELEVANT</td>\n",
       "      <td>The generated answer directly addresses the question and provides a comprehensive response. It explains that a person with mental illness can become independent and successful with proper treatment, support, personal commitment, and stigma reduction. The answer is consistent with the provided context, which highlights the importance of early diagnosis, mental health services, personal resilience, and social acceptance.</td>\n",
       "    </tr>\n",
       "  </tbody>\n",
       "</table>\n",
       "</div>"
      ],
      "text/plain": [
       "        id  \\\n",
       "0  1590140   \n",
       "1  1590140   \n",
       "2  1590140   \n",
       "3  1590140   \n",
       "4  1590140   \n",
       "\n",
       "                                                                                                                                                                                                                                                                                                                                                                                                                                                                                                                                                                                                                                                                                                                                                                                                                                                                                                                                                                                                                                                                                                                                                                                                                                                                                                                                                                                                                                                                                                                                                                                                                                                                                                                                                                                                                                        answer  \\\n",
       "0                                                                                                                                                                                                  Mental illnesses can significantly affect a person's daily functioning and relationships in various ways. \\n\\nIn terms of daily functioning, mental illnesses can cause difficulties with concentration, memory, and decision-making, making it challenging to perform routine tasks or handle responsibilities at work or school. They can also lead to changes in sleep patterns, appetite, and energy levels, which can impact a person's ability to maintain a regular schedule or engage in daily activities. Furthermore, mental illnesses can result in physical symptoms such as fatigue, headaches, and stomachaches, which can exacerbate functional impairments.\\n\\nRegarding relationships, mental illnesses can affect a person's ability to communicate effectively, leading to misunderstandings or conflicts with others. They can also cause changes in mood and behavior that may be perceived as unpredictable or unreliable, making it difficult to form and maintain close relationships. In some cases, mental illnesses may lead to social isolation or withdrawal due to feelings of shame, stigma, or fear of rejection.\\n\\nAdditionally, mental illnesses can have a ripple effect on the relationships of family members and friends, who may experience stress, frustration, and burden as they try to support their loved one. This can lead to strained relationships or even family dysfunction if left unaddressed.\\n\\nOverall, mental illnesses can have far-reaching impacts on a person's daily functioning and relationships, highlighting the importance of seeking appropriate treatment and support.   \n",
       "1                                                                                                                                                                                                     Sure, based on the context provided, some examples of serious mental illnesses that can result in major functional impairment include Schizophrenia, Bipolar Disorder, and Major Depressive Disorder.\\n\\n1. Schizophrenia: This is a chronic and severe mental disorder that affects how a person thinks, feels, and behaves. People with schizophrenia may have difficulty distinguishing reality from fantasy, which can lead to hallucinations, delusions, and paranoia. This can significantly impair their ability to function in daily life, including work, school, and social relationships.\\n\\n2. Bipolar Disorder: This is a mental health condition that causes extreme mood swings that include emotional highs (manic or hypomanic episodes) and lows (depressive episodes). These mood swings can significantly affect a person's energy, activity, judgment, behavior, and ability to carry out day-to-day tasks.\\n\\n3. Major Depressive Disorder: This is a severe form of depression that can prevent a person from functioning normally. It can cause persistent feelings of sadness, hopelessness, and a lack of interest or pleasure in activities. It can also lead to significant weight loss or gain, insomnia or oversleeping, fatigue, feelings of worthlessness or guilt, and difficulty thinking, concentrating, or making decisions.\\n\\nThese mental illnesses can be managed with appropriate treatment, which may include medication, therapy, or a combination of both. Early identification and treatment can help reduce the impact of these illnesses on a person's ability to function in daily life.   \n",
       "2                                                                                                                                                                                                                                                                                                                                                                                                                                                                                                                                                                                                                                                                                                                                                                                                                                                                                    Mental illness is not a reflection of a person's character, intelligence, or willpower. This is a misconception because mental health conditions are caused by a complex interplay of genetic, biological, environmental, and psychological factors. They are not choices or moral failings. In fact, people with mental illness are often highly intelligent, creative, and resilient individuals. However, the symptoms of their illness can significantly impact their ability to function in daily life, regardless of their personal strength or character. Furthermore, blaming a person with mental illness for their condition can lead to stigma, discrimination, and delayed help-seeking behaviors, which can exacerbate their symptoms and make recovery more difficult. Therefore, it is essential to view mental illness as a legitimate medical condition that requires compassion, understanding, and appropriate professional treatment.   \n",
       "3  Mental illnesses are treated using a variety of methods, and the success rate of these treatments can vary depending on the specific illness, the individual's circumstances, and the treatment approach. \\n\\nThe context provided mentions psychotherapy, medication, and brain stimulation therapy as common treatment methods. \\n\\nPsychotherapy, also known as talk therapy, involves working with a mental health professional to understand and manage mental health symptoms. This can be done individually or in a group setting. The success rate of psychotherapy depends on the individual and the type of therapy used, but research shows that it can be very effective for many people.\\n\\nMedication is another common treatment for mental illnesses. Different medications are used to treat different illnesses, and they can be very effective when used correctly. However, they may not work for everyone, and they can have side effects. \\n\\nBrain stimulation therapy is a less common treatment method, but it can be very effective for certain illnesses. This can include techniques like electroconvulsive therapy (ECT) and repetitive transcranial magnetic stimulation (rTMS). \\n\\nThe context also mentions that early intervention and a comprehensive treatment plan can improve the success rate of these treatments. This means that starting treatment as early as possible and using a combination of different treatment methods can lead to better outcomes.\\n\\nHowever, it's important to note that there is no one-size-fits-all treatment for mental illness. Each person is unique, and what works for one person may not work for another. It's also important to remember that recovery from a mental illness is often a journey, and it may take time to find the right treatment approach.   \n",
       "4                                                                                                                                                                  Yes, a person with a mental illness can certainly become independent and successful with proper treatment. It's important to remember that mental illnesses are not a sign of weakness, and they do not define a person's abilities or potential. With the right support, care, and resources, individuals with mental illness can lead fulfilling and successful lives.\\n\\nThe context provided highlights a few key points that support this answer:\\n\\n1. Early and accurate diagnosis: Receiving the correct diagnosis can help guide the individual towards the most effective treatment paths, enabling them to manage their symptoms more effectively.\\n\\n2. Access to mental health services: With proper treatment options, including therapy, counseling, support groups, and medications, individuals can learn to manage their symptoms and develop coping strategies that promote independence.\\n\\n3. Personal commitment and resilience: The person's determination and resilience play a significant role in their recovery. Engaging in treatment and practicing self-care can empower individuals to take control of their lives.\\n\\n4. Stigma reduction: Breaking the stigma surrounding mental illness can help create a supportive environment for individuals to seek help and work towards personal success. It's essential to foster understanding, empathy, and inclusive communities to help those on their recovery journey.\\n\\nIn conclusion, with the right combination of evidence-based treatments, support, personal commitment, and a reduction of stigma, a person with a mental illness can undoubtedly achieve independence and success.   \n",
       "\n",
       "                                                                                                       question  \\\n",
       "0                                How do mental illnesses affect a person's daily functioning and relationships?   \n",
       "1            What are some examples of serious mental illnesses that can result in major functional impairment?   \n",
       "2  Why is it a misconception to associate mental illness with a person's character, intelligence, or willpower?   \n",
       "3                           How are mental illnesses treated, and what is the success rate of these treatments?   \n",
       "4                     Can a person with mental illness become independent and successful with proper treatment?   \n",
       "\n",
       "  relevance  \\\n",
       "0  RELEVANT   \n",
       "1  RELEVANT   \n",
       "2  RELEVANT   \n",
       "3  RELEVANT   \n",
       "4  RELEVANT   \n",
       "\n",
       "                                                                                                                                                                                                                                                                                                                                                                                                                                                                                    explanation  \n",
       "0                                                                            The generated answer is relevant to the question as it provides detailed information about how mental illnesses can affect a person's daily functioning and relationships. It covers various aspects such as cognitive difficulties, changes in sleep patterns, communication problems, mood changes, and the impact on family and friends. The answer is comprehensive and directly addresses the question posed.  \n",
       "1                                                                                                                                   The generated answer provides three clear examples of serious mental illnesses that can result in major functional impairment, which directly answers the question. The answer also provides a brief description of each illness and its potential impact on a person's ability to function in daily life, adding to the relevance and value of the answer.  \n",
       "2  The generated answer is highly relevant to the question as it directly addresses the misconception of associating mental illness with a person's character, intelligence, or willpower. It explains the various factors that cause mental health conditions, debunks the misconception, and highlights the negative consequences of holding such beliefs. Furthermore, it emphasizes the importance of viewing mental illness as a medical condition requiring compassion and understanding.  \n",
       "3                                                                                                                                                                                                              The generated answer is relevant as it explains that mental illnesses are treated using various methods and the success rate can vary. It mentions psychotherapy, medication, and brain stimulation therapy as common treatment methods, which aligns with the context provided.  \n",
       "4                                                        The generated answer directly addresses the question and provides a comprehensive response. It explains that a person with mental illness can become independent and successful with proper treatment, support, personal commitment, and stigma reduction. The answer is consistent with the provided context, which highlights the importance of early diagnosis, mental health services, personal resilience, and social acceptance.  "
      ]
     },
     "execution_count": 123,
     "metadata": {},
     "output_type": "execute_result"
    }
   ],
   "source": [
    "# Filter relevant entries\n",
    "#relevant_answers = df_eval[df_eval['relevance'] == 'RELEVANT']\n",
    "relevant_answers.head(5)\n"
   ]
  },
  {
   "cell_type": "code",
   "execution_count": 118,
   "metadata": {},
   "outputs": [],
   "source": [
    "# Filter non-relevant entries\n",
    "non_relevant_answers = df_eval[df_eval['relevance'] == 'NON_RELEVANT']\n"
   ]
  },
  {
   "cell_type": "code",
   "execution_count": 117,
   "metadata": {},
   "outputs": [
    {
     "data": {
      "text/html": [
       "<div>\n",
       "<style scoped>\n",
       "    .dataframe tbody tr th:only-of-type {\n",
       "        vertical-align: middle;\n",
       "    }\n",
       "\n",
       "    .dataframe tbody tr th {\n",
       "        vertical-align: top;\n",
       "    }\n",
       "\n",
       "    .dataframe thead th {\n",
       "        text-align: right;\n",
       "    }\n",
       "</style>\n",
       "<table border=\"1\" class=\"dataframe\">\n",
       "  <thead>\n",
       "    <tr style=\"text-align: right;\">\n",
       "      <th></th>\n",
       "      <th>question</th>\n",
       "      <th>answer</th>\n",
       "      <th>explanation</th>\n",
       "    </tr>\n",
       "  </thead>\n",
       "  <tbody>\n",
       "    <tr>\n",
       "      <th>32</th>\n",
       "      <td>What kind of physical or neurological tests are usually involved?</td>\n",
       "      <td>The context does not provide specific information about what kind of physical or neurological tests are usually involved in the assessment and treatment of mental health conditions. The text mentions that mental health conditions can be caused by a combination of genetic, biological, environmental, and psychological factors. However, it does not outline any specific tests used to identify these factors. Therefore, I cannot provide a detailed and accurate answer to this question based on the given context.</td>\n",
       "      <td>The generated answer does not provide any information about the types of physical or neurological tests involved in mental health assessments, therefore it is non-relevant to the question asked.</td>\n",
       "    </tr>\n",
       "  </tbody>\n",
       "</table>\n",
       "</div>"
      ],
      "text/plain": [
       "                                                             question  \\\n",
       "32  What kind of physical or neurological tests are usually involved?   \n",
       "\n",
       "                                                                                                                                                                                                                                                                                                                                                                                                                                                                                                                            answer  \\\n",
       "32  The context does not provide specific information about what kind of physical or neurological tests are usually involved in the assessment and treatment of mental health conditions. The text mentions that mental health conditions can be caused by a combination of genetic, biological, environmental, and psychological factors. However, it does not outline any specific tests used to identify these factors. Therefore, I cannot provide a detailed and accurate answer to this question based on the given context.   \n",
       "\n",
       "                                                                                                                                                                                           explanation  \n",
       "32  The generated answer does not provide any information about the types of physical or neurological tests involved in mental health assessments, therefore it is non-relevant to the question asked.  "
      ]
     },
     "execution_count": 117,
     "metadata": {},
     "output_type": "execute_result"
    }
   ],
   "source": [
    "non_relevant_answers[['question','answer','explanation']]"
   ]
  },
  {
   "cell_type": "code",
   "execution_count": 116,
   "metadata": {},
   "outputs": [],
   "source": [
    "import pandas as pd\n",
    "\n",
    "# Set display options to show full content\n",
    "pd.set_option('display.max_colwidth', None)\n"
   ]
  },
  {
   "cell_type": "markdown",
   "metadata": {},
   "source": [
    "## Analysing Partly Relevant Answers"
   ]
  },
  {
   "cell_type": "code",
   "execution_count": 119,
   "metadata": {},
   "outputs": [],
   "source": [
    "partly_relevant_answers = df_eval[df_eval['relevance'] == 'PARTLY_RELEVANT']\n"
   ]
  },
  {
   "cell_type": "code",
   "execution_count": 120,
   "metadata": {},
   "outputs": [
    {
     "data": {
      "text/html": [
       "<div>\n",
       "<style scoped>\n",
       "    .dataframe tbody tr th:only-of-type {\n",
       "        vertical-align: middle;\n",
       "    }\n",
       "\n",
       "    .dataframe tbody tr th {\n",
       "        vertical-align: top;\n",
       "    }\n",
       "\n",
       "    .dataframe thead th {\n",
       "        text-align: right;\n",
       "    }\n",
       "</style>\n",
       "<table border=\"1\" class=\"dataframe\">\n",
       "  <thead>\n",
       "    <tr style=\"text-align: right;\">\n",
       "      <th></th>\n",
       "      <th>question</th>\n",
       "      <th>answer</th>\n",
       "      <th>explanation</th>\n",
       "    </tr>\n",
       "  </thead>\n",
       "  <tbody>\n",
       "    <tr>\n",
       "      <th>5</th>\n",
       "      <td>Who are the groups most commonly affected by different mental illnesses?</td>\n",
       "      <td>The context provided does not include specific information about the groups most commonly affected by different mental illnesses. However, I can share some general information based on common knowledge in the field of mental health.\\n\\nVarious factors such as genetics, environment, and lifestyle can contribute to the development of mental illnesses. While mental illnesses can affect anyone, regardless of their background, some groups may be at a higher risk due to specific factors. Here are some examples:\\n\\n1. Women are more likely to experience depression and anxiety disorders than men, potentially due to hormonal differences, societal pressures, and a higher likelihood of trauma exposure.\\n2. Men have higher suicide rates and are more likely to experience substance use disorders, possibly due to societal expectations, stress, and a lower likelihood of seeking help for mental health issues.\\n3. Older adults are at risk for mental health issues such as depression, anxiety, and dementia, which can be caused by age-related changes in the brain, chronic illnesses, and social isolation.\\n4. Children and adolescents are susceptible to mental health issues like ADHD, autism spectrum disorders, and depression, which can be influenced by genetic factors, brain development, and environmental factors such as bullying or family dysfunction.\\n5. Individuals with lower socioeconomic status or from marginalized communities may experience higher rates of mental health issues due to discrimination, trauma, and limited access to mental health services.\\n\\nIt's important to note that these are general trends and individual experiences can vary greatly. Mental health issues can affect anyone, regardless of their age, gender, ethnicity, or socioeconomic status.</td>\n",
       "      <td>The generated answer is not directly relevant to the question as it does not specify the groups most commonly affected by different mental illnesses based on the provided context. However, the answer does provide general information about various groups that are at a higher risk of mental illnesses due to specific factors, making it partly relevant.</td>\n",
       "    </tr>\n",
       "    <tr>\n",
       "      <th>9</th>\n",
       "      <td>At what age are individuals most susceptible to mental illness?</td>\n",
       "      <td>The context does not provide specific information about the age at which individuals are most susceptible to mental illness. However, it's important to note that mental illness can affect people of all ages, from children to older adults. According to the World Health Organization, half of all mental illnesses begin by the age of 14, and three-quarters of mental illnesses begin by the age of 24. Early intervention and treatment can significantly improve outcomes, so it's crucial to identify and address mental health concerns as early as possible.</td>\n",
       "      <td>While the generated answer does not provide a specific age at which individuals are most susceptible to mental illness, it does offer relevant information about the onset of mental illness. According to the answer, half of all mental illnesses begin by the age of 14 and three-quarters of mental illnesses begin by the age of 24. This context helps illustrate that mental illness can affect people at varying ages, which is pertinent to the question.</td>\n",
       "    </tr>\n",
       "    <tr>\n",
       "      <th>30</th>\n",
       "      <td>What can I expect in terms of the cause of my illness?</td>\n",
       "      <td>I'm glad you're seeking information about the potential causes of your illness. However, I'm unable to provide a specific answer because the context provided does not include any details about your diagnosis or symptoms. \\n\\nGenerally, mental health conditions can be caused by a variety of factors including genetic, biological, environmental, and psychological influences. For example, depression can be caused by a combination of genetic predisposition, brain chemistry imbalances, traumatic events, and chronic stress. Anxiety disorders can be caused by a combination of genetic factors, brain abnormalities, environmental stressors, and learned behaviors.\\n\\nIt's important to have a thorough evaluation by a mental health professional who can provide a diagnosis and help identify possible causes. This information can then be used to develop an effective treatment plan. Please consult with your healthcare provider for more personalized information.</td>\n",
       "      <td>The generated answer does provide some relevant information about the potential causes of mental health conditions. However, it does not directly address the specific cause of the user's illness as requested in the question. The answer could be more relevant if it included a statement acknowledging the inability to provide a specific cause without more information, but then providing some general guidance about possible causes or encouraging the user to consult with a healthcare professional for more personalized information.</td>\n",
       "    </tr>\n",
       "    <tr>\n",
       "      <th>41</th>\n",
       "      <td>What can you tell me about the cause of my illness?</td>\n",
       "      <td>I'm glad you're seeking information about the cause of your illness. However, I'm unable to provide a specific answer because the context provided does not include details about your personal diagnosis or medical history. \\n\\nGenerally, mental health conditions can be caused by a variety of factors, including:\\n\\n1. Genetics: Some mental health conditions tend to run in families, suggesting a genetic link. However, it's important to note that having a family member with a mental health condition does not guarantee that you'll develop one too.\\n\\n2. Environmental factors: These can include exposure to trauma, abuse, or neglect, which can increase the risk of developing a mental health condition.\\n\\n3. Brain chemistry: Changes in the balance of neurotransmitters (the chemicals that transmit signals in the brain) can also contribute to mental health conditions.\\n\\n4. Life events: Challenging life events, such as the loss of a loved one or a job, divorce, or a serious illness, can trigger mental health conditions or make existing ones worse.\\n\\n5. Learned behaviors: Sometimes, behaviors that were learned as coping mechanisms can contribute to or worsen mental health conditions.\\n\\nIt's important to have a thorough evaluation by a mental health professional to get a clear understanding of the cause of your specific condition. They can provide you with an accurate diagnosis and help you develop a treatment plan.</td>\n",
       "      <td>The generated answer does not provide specific information about the cause of the user's illness, but it does explain possible causes of mental health conditions in general. The answer encourages the user to consult with a mental health professional for a more accurate assessment, which is appropriate and relevant.</td>\n",
       "    </tr>\n",
       "    <tr>\n",
       "      <th>46</th>\n",
       "      <td>Where can I find mental health resources in my area?</td>\n",
       "      <td>I'm here to help guide you with the information I have access to, which is text-based. However, I'm unable to provide real-time, location-based responses. But I can certainly give you some general advice on how to find mental health resources in your area!\\n\\n1. **Online Directories**: Websites like Psychology Today, Therapy Den, or the Anxiety and Depression Association of America (ADAA) have search tools that allow you to find mental health professionals in your area. You can filter by specialty, insurance, and other preferences.\\n\\n2. **Local Health Departments or Community Health Centers**: These organizations often have information about mental health services available in the community. They may also offer their own programs.\\n\\n3. **Employee Assistance Programs (EAPs)**: If you're employed, your company may offer an EAP, which can provide mental health resources or referrals.\\n\\n4. **Insurance Providers**: Your health insurance company's website or customer service line can usually provide a list of mental health professionals covered by your plan.\\n\\n5. **Physician Referrals**: Primary care physicians, pediatricians, and other doctors often have connections with local mental health professionals and can provide referrals.\\n\\n6. **Support Groups**: National organizations like the National Alliance on Mental Illness (NAMI) often have local chapters that offer support groups and other resources.\\n\\n7. **Hotlines and Online Chat Services**: If you're in a crisis, resources like the National Suicide Prevention Lifeline (1-800-273-TALK) or the Crisis Text Line (text HOME to 741741) can provide immediate assistance and refer you to local resources.\\n\\nRemember, it's important to find a mental health professional who is a good fit for you. Don't hesitate to reach out to a few different providers to ask about their approach, experience, and whether they think they could help with your specific concerns.</td>\n",
       "      <td>The generated answer does not provide specific mental health resources in the user's area as requested, but it does offer a comprehensive list of methods and suggestions to find relevant mental health resources, making it partly relevant.</td>\n",
       "    </tr>\n",
       "    <tr>\n",
       "      <th>50</th>\n",
       "      <td>How long does it typically take for the medication to take effect and how will I know when it is effective?</td>\n",
       "      <td>The context does not provide specific information about how long it typically takes for the medication to take effect or how to know when it is effective. The time it takes for medication to work can vary depending on the drug and the individual. Some medications may start working within a few days, while others may take several weeks or longer. It is important to discuss with your healthcare provider any changes you notice after starting a new medication. They can help determine if those changes are related to the medication or something else. Always follow your healthcare provider's instructions regarding medication use, and report any bothersome side effects or concerns.</td>\n",
       "      <td>The generated answer does not provide specific information about the medication in question; however, it does offer general advice on how long medications can take to work and how to identify their effects. This makes the answer partly relevant.</td>\n",
       "    </tr>\n",
       "    <tr>\n",
       "      <th>58</th>\n",
       "      <td>Do I need a doctor's consent to apply for prescription assistance programs?</td>\n",
       "      <td>The context provided does not include specific information about whether a doctor's consent is required for prescription assistance programs. However, generally speaking, the requirements for these programs can vary. Some programs might require a doctor's consent or a prescription from your doctor, while others may not. It's recommended to check the specific requirements of the prescription assistance program you're interested in for the most accurate information. You can also consult with your healthcare provider or a representative from the assistance program for clarification.</td>\n",
       "      <td>The generated answer does not directly confirm or deny if a doctor's consent is needed for prescription assistance programs. However, it does provide relevant information about the general possibility of such a requirement and suggests consulting the specific program or healthcare provider for accurate details, which shows some connection to the question.</td>\n",
       "    </tr>\n",
       "    <tr>\n",
       "      <th>59</th>\n",
       "      <td>What kind of proof do I need to provide for these prescription assistance programs?</td>\n",
       "      <td>The context does not provide specific details about the type of proof required for prescription assistance programs. However, it generally mentions that these programs consider factors such as income, insurance coverage, and medical conditions. Therefore, you may need to provide proof of your income, such as tax returns or paystubs, and proof of your insurance coverage. Additionally, you may need to provide medical documentation of your condition and proof that you cannot afford your prescribed medications. It is best to contact the specific prescription assistance program you are interested in to understand their exact requirements.</td>\n",
       "      <td>The answer provides general information about the types of proof that might be required for prescription assistance programs, such as proof of income, insurance coverage, and medical condition. However, it does not provide specific proof requirements for these programs, which is what the question asked.</td>\n",
       "    </tr>\n",
       "    <tr>\n",
       "      <th>89</th>\n",
       "      <td>What are some other approaches I can try if the current ones don't help?</td>\n",
       "      <td>I'm glad you're seeking additional approaches to support your mental health. While the context doesn't provide specific details about your current strategies, I can suggest some general methods that could be beneficial. Remember, it's always important to consult with a mental health professional before making significant changes to your mental health plan.\\n\\n1. **Psychotherapy**: This can be an effective approach if you're not already engaged in it. Cognitive Behavioral Therapy (CBT), Dialectical Behavior Therapy (DBT), and Acceptance and Commitment Therapy (ACT) are some evidence-based forms of psychotherapy that can help manage various mental health conditions.\\n\\n2. **Mindfulness and Meditation**: These practices can help reduce stress, improve focus, and enhance emotional wellbeing. They can be practiced alone or as part of a therapy program.\\n\\n3. **Physical Activity**: Regular exercise can have a positive impact on mental health by reducing anxiety and depression symptoms, improving mood, and enhancing cognitive function.\\n\\n4. **Healthy Lifestyle**: This includes a balanced diet, adequate sleep, and reducing or avoiding substances like alcohol, caffeine, and nicotine, which can exacerbate mental health issues.\\n\\n5. **Social Connections**: Building and maintaining healthy relationships can provide emotional support and decrease feelings of isolation.\\n\\n6. **Self-Care**: Engaging in activities that you enjoy and that help you relax can contribute to overall mental wellbeing.\\n\\n7. **Support Groups**: Joining a support group can provide a sense of community and understanding from others who are going through similar experiences.\\n\\n8. **Alternative Therapies**: These can include art therapy, music therapy, equine therapy, and others. While not as extensively researched as some other methods, they can be beneficial for some individuals.\\n\\nRemember, what works best can vary from person to person. It's important to find the right combination of strategies that suits your needs and circumstances.</td>\n",
       "      <td>The generated answer is partially relevant as it provides a list of alternative approaches to mental health management. However, it does not directly address the user's question about what to do if the current strategies are not helpful. It could be more relevant by acknowledging the user's specific situation and suggesting adjustments or alternatives to their existing approaches.</td>\n",
       "    </tr>\n",
       "    <tr>\n",
       "      <th>155</th>\n",
       "      <td>Can I make an appointment with a psychiatrist directly or do I need a referral from a doctor?</td>\n",
       "      <td>The context does not provide specific information about the process for making an appointment with a psychiatrist. However, it does mention that Dr. Sarah Johnson is a psychiatrist who works in collaboration with primary care physicians. This might suggest that in the context of this particular mental health practice, a referral from a doctor is needed to see the psychiatrist.\\n\\nHowever, the process can vary depending on the location, healthcare system, and insurance requirements. In some cases, you may be able to make an appointment with a psychiatrist directly. It's best to check with the specific psychiatric practice or your insurance provider to understand the necessary steps.</td>\n",
       "      <td>The generated answer provides some relevant information regarding the process of making an appointment with a psychiatrist, acknowledging that it might require a referral from a doctor or could be done directly depending on various factors. However, it does not give a clear, direct answer to the question and leaves it open to interpretation.</td>\n",
       "    </tr>\n",
       "    <tr>\n",
       "      <th>161</th>\n",
       "      <td>Do I need a doctor's referral to see a psychologist?</td>\n",
       "      <td>The context does not provide specific information about the requirements for seeing a psychologist in a particular location or situation. However, in general, the need for a doctor's referral to see a psychologist can vary. In some cases, you may be able to make an appointment with a psychologist without a referral. This is more common in situations where you are paying for the services yourself.\\n\\nOn the other hand, if you are planning to use insurance to cover the cost of psychological services, you may need a referral from your primary care physician or another qualified healthcare provider. This is because many insurance plans require a referral for mental health services to be covered.\\n\\nTo be sure about the requirements in your specific situation, it would be best to contact your insurance provider or the psychologist's office directly. They can provide you with the most accurate and up-to-date information based on your specific circumstances.</td>\n",
       "      <td>The generated answer does provide some relevant information about the general conditions for seeing a psychologist, such as the potential need for a doctor's referral when using insurance. However, it does not give a direct, concise answer to the question 'Do I need a doctor's referral to see a psychologist?'.</td>\n",
       "    </tr>\n",
       "    <tr>\n",
       "      <th>189</th>\n",
       "      <td>What resources are available to help me cope with depression, low mood, or anxiety caused by a chronic health condition?</td>\n",
       "      <td>I'm here to help provide information based on the context you've given. In this case, the context doesn't contain specific resources. However, I can tell you that there are several general resources that can help you cope with depression, low mood, or anxiety caused by a chronic health condition. \\n\\n1. **Therapy or Counseling**: Speaking with a mental health professional can be very beneficial. They can provide strategies to manage your feelings and can help you work through any emotional challenges related to your chronic health condition.\\n\\n2. **Support Groups**: Joining a support group can provide a sense of community and understanding. It can be helpful to connect with others who are going through similar experiences.\\n\\n3. **Online Resources**: There are many online platforms that offer information and resources for managing mental health, including those related to chronic health conditions. Websites like the American Psychological Association (APA), National Alliance on Mental Illness (NAMI), or Mental Health America (MHA) can be good starting points.\\n\\n4. **Mindfulness and Relaxation Techniques**: Practices like meditation, deep breathing, yoga, or progressive muscle relaxation can help reduce anxiety and improve mood.\\n\\n5. **Self-Care**: Regular exercise, a healthy diet, adequate sleep, and engaging in activities you enjoy can contribute to overall well-being and mental health.\\n\\n6. **Medication**: If your symptoms are severe, your healthcare provider may recommend medication as part of your treatment plan.\\n\\nRemember, it's important to consult with a healthcare professional for personalized advice and treatment.</td>\n",
       "      <td>The generated answer is partly relevant because it provides general resources for coping with depression, low mood, or anxiety caused by a chronic health condition. However, it does not provide resources specific to the context given in the question.</td>\n",
       "    </tr>\n",
       "    <tr>\n",
       "      <th>195</th>\n",
       "      <td>What tips and resources are available for cutting back or quitting substance use?</td>\n",
       "      <td>The context provided doesn't contain specific tips or resources for cutting back or quitting substance use. However, I can provide general tips and resources based on mental health best practices.\\n\\nTips for Cutting Back or Quitting Substance Use:\\n\\n1. **Set a Clear Goal**: Decide on a specific, achievable goal. This could be reducing your use or quitting entirely. Having a clear objective can help you stay focused and motivated.\\n\\n2. **Seek Professional Help**: Consider consulting with a healthcare provider or a mental health professional. They can provide guidance, support, and potentially medication to help manage withdrawals.\\n\\n3. **Explore Therapy Options**: Cognitive-behavioral therapy (CBT) and motivational interviewing are evidence-based therapies that can help you understand your triggers, develop coping strategies, and increase your motivation to change.\\n\\n4. **Build a Support Network**: Share your goals with trusted friends, family, or support groups. They can provide encouragement, understanding, and help hold you accountable.\\n\\n5. **Manage Stress**: Find healthy ways to cope with stress, such as exercise, meditation, or hobbies. Stress can be a major trigger for substance use.\\n\\n6. **Lifestyle Changes**: Healthy eating, regular exercise, and adequate sleep can improve your overall health and resilience, making it easier to cut back or quit.\\n\\nResources:\\n\\n1. **Substance Abuse and Mental Health Services Administration (SAMHSA)**: SAMHSA provides a confidential helpline (1-800-662-HELP) and a treatment locator tool to find local substance abuse treatment facilities, support groups, and community-based organizations.\\n\\n2. **National Institute on Drug Abuse (NIDA)**: NIDA offers a range of resources, including information on different types of treatment and a guide for finding a quality treatment program.\\n\\n3. **National Institute on Alcohol Abuse and Alcoholism (NIAAA)**: NIAAA provides resources specifically for alcohol use disorder, including a treatment navigator and alcohol treatment toolkit.\\n\\n4. **Smart Recovery**: This is a global community of mutual-support groups where participants help one another resolve problems with any type of addiction.\\n\\n5. **Al-Anon/Alateen**: These are support groups for friends and family of people struggling with alcohol use disorder.\\n\\nRemember, it's important to consult with a healthcare provider before starting any new treatment plan. They can provide personalized advice based on your specific situation and health history.</td>\n",
       "      <td>The generated answer itself is not relevant to the question as it does not provide specific tips or resources for cutting back or quitting substance use. However, it acknowledges the lack of relevance in the provided context and offers general tips and resources which are somewhat related to the question.</td>\n",
       "    </tr>\n",
       "    <tr>\n",
       "      <th>204</th>\n",
       "      <td>How long does the coverage for Plan G typically last?</td>\n",
       "      <td>Based on the provided context, the question asks about the duration of Plan G's coverage, but the context does not include specific information on the length of coverage for this plan. Therefore, I cannot provide an exact answer using the given context. Plan G could refer to a variety of plans in different settings, so it is important to refer to the specific documentation or terms of the plan for accurate details.</td>\n",
       "      <td>The answer is partly relevant because it acknowledges the question's intent and correctly states that the given context doesn't have specific information about Plan G's coverage duration. However, the answer does not provide any additional context or guidance to help narrow down the search for the information, making it only partially relevant.</td>\n",
       "    </tr>\n",
       "    <tr>\n",
       "      <th>208</th>\n",
       "      <td>What are the different income levels for provincial income assistance?</td>\n",
       "      <td>The context provided does not include specific information on the different income levels for provincial income assistance. Income assistance programs can vary by province, so it would be important to specify the particular region when seeking this information. For example, in British Columbia, the provincial income assistance program has different rates depending on factors such as living situation and disability status. I would recommend checking the official government website of the relevant province for the most accurate and up-to-date information on income assistance levels.</td>\n",
       "      <td>The generated answer does not provide specific income levels for provincial income assistance, making it only partially relevant. However, it does acknowledge the variability of income assistance programs by province and offers a method for finding the correct information, which adds some value to the answer.</td>\n",
       "    </tr>\n",
       "    <tr>\n",
       "      <th>279</th>\n",
       "      <td>Do you have a self-test for depression that also screens for signs of bipolar disorder?</td>\n",
       "      <td>Based on the context provided, there is no specific self-test for depression that also screens for signs of bipolar disorder mentioned. However, the context does mention the Patient Health Questionnaire-9 (PHQ-9) for depression and the Mood Disorder Questionnaire (MDQ) for bipolar disorder as tools used to screen for these conditions. These could be used separately to screen for each disorder, but it would be best to consult with a healthcare provider who can provide a comprehensive assessment.</td>\n",
       "      <td>The answer is partly relevant because it acknowledges the lack of a single self-test for both depression and bipolar disorder. It does provide separate screening tools for each condition, which, while not a combined test, could still be useful to the user. However, it would be more relevant if it directly addressed the combination of both screens.</td>\n",
       "    </tr>\n",
       "    <tr>\n",
       "      <th>295</th>\n",
       "      <td>What are the symptoms of PDD?</td>\n",
       "      <td>Personality Disorder Not Otherwise Specified (PDD-NOS) is characterized by a long-term pattern of emotions, thoughts, and behaviors that significantly differ from what is expected in an individual's culture, are inflexible, lead to distress or impairment, and are not explained by another mental disorder.\\n\\nThe symptoms of PDD-NOS can vary widely depending on the person, but may include:\\n\\n1. Difficulty forming close relationships\\n2. Difficulty understanding and responding to other people's emotions\\n3. Often see things in black and white categories\\n4. Are rigid and stubborn\\n5. Have intense, unpredictable emotions\\n6. Feel empty or numb inside\\n7. Inability to tolerate being alone\\n8. Have trouble handling criticism and rejection\\n9. Hypersensitivity to environmental factors\\n10. May have an exaggerated or understated response to situations\\n11. Unusual, persistent thoughts or suspicions\\n12. Obsessive actions or repetitive behaviors\\n13. Self-destructive actions, such as self-mutilation\\n14. May experience periods of unusual, sometimes great, productivity\\n15. Difficulty controlling anger\\n16. Impulsive behavior\\n17. May have substance abuse problems\\n18. Depressed mood.\\n\\nIt's important to note that these symptoms must be severe enough to cause significant distress or impairment in social, occupational, or other important areas of functioning in order for a diagnosis of PDD-NOS to be made.</td>\n",
       "      <td>The generated answer provides symptoms of PDD-NOS which is a subtype of Personality Disorders. However, it does not explicitly mention the symptoms of Pervasive Developmental Disorder (PDD). Therefore, it is only partly relevant to the question asked.</td>\n",
       "    </tr>\n",
       "    <tr>\n",
       "      <th>352</th>\n",
       "      <td>If cannabis smoke contains harmful toxins, why is the risk of cancer less for cannabis smokers than tobacco smokers?</td>\n",
       "      <td>The context does not provide specific information on why the risk of cancer is less for cannabis smokers than tobacco smokers, despite both containing harmful toxins. However, it does mention that cannabis is often smoked in smaller quantities and less frequently than tobacco, which could be a contributing factor. Additionally, cannabis smokers tend to inhale more deeply and hold their breath longer, which leads to a greater deposition of toxic particles in the lung, but fewer overall breaths and less overall exposure. The Science of Marijuana, a book cited in the context, may provide a more detailed explanation. It is also worth noting that research in this area is ongoing and the relationship between cannabis smoking and cancer risk is not yet fully understood.</td>\n",
       "      <td>The generated answer does not directly address the 'why' part of the question. However, it does provide possible contributing factors as to why the risk of cancer might be less for cannabis smokers than tobacco smokers, such as smaller quantities, less frequency, and different inhalation patterns. The answer also acknowledges ongoing research in this area.</td>\n",
       "    </tr>\n",
       "  </tbody>\n",
       "</table>\n",
       "</div>"
      ],
      "text/plain": [
       "                                                                                                                     question  \\\n",
       "5                                                    Who are the groups most commonly affected by different mental illnesses?   \n",
       "9                                                             At what age are individuals most susceptible to mental illness?   \n",
       "30                                                                     What can I expect in terms of the cause of my illness?   \n",
       "41                                                                        What can you tell me about the cause of my illness?   \n",
       "46                                                                       Where can I find mental health resources in my area?   \n",
       "50                How long does it typically take for the medication to take effect and how will I know when it is effective?   \n",
       "58                                                Do I need a doctor's consent to apply for prescription assistance programs?   \n",
       "59                                        What kind of proof do I need to provide for these prescription assistance programs?   \n",
       "89                                                   What are some other approaches I can try if the current ones don't help?   \n",
       "155                             Can I make an appointment with a psychiatrist directly or do I need a referral from a doctor?   \n",
       "161                                                                      Do I need a doctor's referral to see a psychologist?   \n",
       "189  What resources are available to help me cope with depression, low mood, or anxiety caused by a chronic health condition?   \n",
       "195                                         What tips and resources are available for cutting back or quitting substance use?   \n",
       "204                                                                     How long does the coverage for Plan G typically last?   \n",
       "208                                                    What are the different income levels for provincial income assistance?   \n",
       "279                                   Do you have a self-test for depression that also screens for signs of bipolar disorder?   \n",
       "295                                                                                             What are the symptoms of PDD?   \n",
       "352      If cannabis smoke contains harmful toxins, why is the risk of cancer less for cannabis smokers than tobacco smokers?   \n",
       "\n",
       "                                                                                                                                                                                                                                                                                                                                                                                                                                                                                                                                                                                                                                                                                                                                                                                                                                                                                                                                                                                                                                                                                                                                                                                                                                                                                                                                                                                                                                                                                                                                                                                                                                                                                                                                                                                                                                                                                                                                                                                                                                                                                                                                                                                                                                                                                                                                                                                                                                                                                                                                                                                                                                 answer  \\\n",
       "5                                                                                                                                                                                                                                                                                                                                                                                                                                                                                                                                                                                                                                                                                                                                                                                          The context provided does not include specific information about the groups most commonly affected by different mental illnesses. However, I can share some general information based on common knowledge in the field of mental health.\\n\\nVarious factors such as genetics, environment, and lifestyle can contribute to the development of mental illnesses. While mental illnesses can affect anyone, regardless of their background, some groups may be at a higher risk due to specific factors. Here are some examples:\\n\\n1. Women are more likely to experience depression and anxiety disorders than men, potentially due to hormonal differences, societal pressures, and a higher likelihood of trauma exposure.\\n2. Men have higher suicide rates and are more likely to experience substance use disorders, possibly due to societal expectations, stress, and a lower likelihood of seeking help for mental health issues.\\n3. Older adults are at risk for mental health issues such as depression, anxiety, and dementia, which can be caused by age-related changes in the brain, chronic illnesses, and social isolation.\\n4. Children and adolescents are susceptible to mental health issues like ADHD, autism spectrum disorders, and depression, which can be influenced by genetic factors, brain development, and environmental factors such as bullying or family dysfunction.\\n5. Individuals with lower socioeconomic status or from marginalized communities may experience higher rates of mental health issues due to discrimination, trauma, and limited access to mental health services.\\n\\nIt's important to note that these are general trends and individual experiences can vary greatly. Mental health issues can affect anyone, regardless of their age, gender, ethnicity, or socioeconomic status.   \n",
       "9                                                                                                                                                                                                                                                                                                                                                                                                                                                                                                                                                                                                                                                                                                                                                                                                                                                                                                                                                                                                                                                                                                                                                                                                                                                                                                                                                                                                                                                                                                                                                                                                                                                                                                                                                                                                                                                                                                                                                                                                                                                              The context does not provide specific information about the age at which individuals are most susceptible to mental illness. However, it's important to note that mental illness can affect people of all ages, from children to older adults. According to the World Health Organization, half of all mental illnesses begin by the age of 14, and three-quarters of mental illnesses begin by the age of 24. Early intervention and treatment can significantly improve outcomes, so it's crucial to identify and address mental health concerns as early as possible.   \n",
       "30                                                                                                                                                                                                                                                                                                                                                                                                                                                                                                                                                                                                                                                                                                                                                                                                                                                                                                                                                                                                                                                                                                                                                                                                                                                                                                                                                                                                                                                                                                                                                                                                                                        I'm glad you're seeking information about the potential causes of your illness. However, I'm unable to provide a specific answer because the context provided does not include any details about your diagnosis or symptoms. \\n\\nGenerally, mental health conditions can be caused by a variety of factors including genetic, biological, environmental, and psychological influences. For example, depression can be caused by a combination of genetic predisposition, brain chemistry imbalances, traumatic events, and chronic stress. Anxiety disorders can be caused by a combination of genetic factors, brain abnormalities, environmental stressors, and learned behaviors.\\n\\nIt's important to have a thorough evaluation by a mental health professional who can provide a diagnosis and help identify possible causes. This information can then be used to develop an effective treatment plan. Please consult with your healthcare provider for more personalized information.   \n",
       "41                                                                                                                                                                                                                                                                                                                                                                                                                                                                                                                                                                                                                                                                                                                                                                                                                                                                                                                                                                                                                                                                                                                                                I'm glad you're seeking information about the cause of your illness. However, I'm unable to provide a specific answer because the context provided does not include details about your personal diagnosis or medical history. \\n\\nGenerally, mental health conditions can be caused by a variety of factors, including:\\n\\n1. Genetics: Some mental health conditions tend to run in families, suggesting a genetic link. However, it's important to note that having a family member with a mental health condition does not guarantee that you'll develop one too.\\n\\n2. Environmental factors: These can include exposure to trauma, abuse, or neglect, which can increase the risk of developing a mental health condition.\\n\\n3. Brain chemistry: Changes in the balance of neurotransmitters (the chemicals that transmit signals in the brain) can also contribute to mental health conditions.\\n\\n4. Life events: Challenging life events, such as the loss of a loved one or a job, divorce, or a serious illness, can trigger mental health conditions or make existing ones worse.\\n\\n5. Learned behaviors: Sometimes, behaviors that were learned as coping mechanisms can contribute to or worsen mental health conditions.\\n\\nIt's important to have a thorough evaluation by a mental health professional to get a clear understanding of the cause of your specific condition. They can provide you with an accurate diagnosis and help you develop a treatment plan.   \n",
       "46                                                                                                                                                                                                                                                                                                                                                                                                                                                                                                                                                                                                                      I'm here to help guide you with the information I have access to, which is text-based. However, I'm unable to provide real-time, location-based responses. But I can certainly give you some general advice on how to find mental health resources in your area!\\n\\n1. **Online Directories**: Websites like Psychology Today, Therapy Den, or the Anxiety and Depression Association of America (ADAA) have search tools that allow you to find mental health professionals in your area. You can filter by specialty, insurance, and other preferences.\\n\\n2. **Local Health Departments or Community Health Centers**: These organizations often have information about mental health services available in the community. They may also offer their own programs.\\n\\n3. **Employee Assistance Programs (EAPs)**: If you're employed, your company may offer an EAP, which can provide mental health resources or referrals.\\n\\n4. **Insurance Providers**: Your health insurance company's website or customer service line can usually provide a list of mental health professionals covered by your plan.\\n\\n5. **Physician Referrals**: Primary care physicians, pediatricians, and other doctors often have connections with local mental health professionals and can provide referrals.\\n\\n6. **Support Groups**: National organizations like the National Alliance on Mental Illness (NAMI) often have local chapters that offer support groups and other resources.\\n\\n7. **Hotlines and Online Chat Services**: If you're in a crisis, resources like the National Suicide Prevention Lifeline (1-800-273-TALK) or the Crisis Text Line (text HOME to 741741) can provide immediate assistance and refer you to local resources.\\n\\nRemember, it's important to find a mental health professional who is a good fit for you. Don't hesitate to reach out to a few different providers to ask about their approach, experience, and whether they think they could help with your specific concerns.   \n",
       "50                                                                                                                                                                                                                                                                                                                                                                                                                                                                                                                                                                                                                                                                                                                                                                                                                                                                                                                                                                                                                                                                                                                                                                                                                                                                                                                                                                                                                                                                                                                                                                                                                                                                                                                                                                                                                                                                                                                           The context does not provide specific information about how long it typically takes for the medication to take effect or how to know when it is effective. The time it takes for medication to work can vary depending on the drug and the individual. Some medications may start working within a few days, while others may take several weeks or longer. It is important to discuss with your healthcare provider any changes you notice after starting a new medication. They can help determine if those changes are related to the medication or something else. Always follow your healthcare provider's instructions regarding medication use, and report any bothersome side effects or concerns.   \n",
       "58                                                                                                                                                                                                                                                                                                                                                                                                                                                                                                                                                                                                                                                                                                                                                                                                                                                                                                                                                                                                                                                                                                                                                                                                                                                                                                                                                                                                                                                                                                                                                                                                                                                                                                                                                                                                                                                                                                                                                                                                                           The context provided does not include specific information about whether a doctor's consent is required for prescription assistance programs. However, generally speaking, the requirements for these programs can vary. Some programs might require a doctor's consent or a prescription from your doctor, while others may not. It's recommended to check the specific requirements of the prescription assistance program you're interested in for the most accurate information. You can also consult with your healthcare provider or a representative from the assistance program for clarification.   \n",
       "59                                                                                                                                                                                                                                                                                                                                                                                                                                                                                                                                                                                                                                                                                                                                                                                                                                                                                                                                                                                                                                                                                                                                                                                                                                                                                                                                                                                                                                                                                                                                                                                                                                                                                                                                                                                                                                                                                                                                                                    The context does not provide specific details about the type of proof required for prescription assistance programs. However, it generally mentions that these programs consider factors such as income, insurance coverage, and medical conditions. Therefore, you may need to provide proof of your income, such as tax returns or paystubs, and proof of your insurance coverage. Additionally, you may need to provide medical documentation of your condition and proof that you cannot afford your prescribed medications. It is best to contact the specific prescription assistance program you are interested in to understand their exact requirements.   \n",
       "89                                                                                                                                                                                                                                                                                                                                                                                                                                                                                                                  I'm glad you're seeking additional approaches to support your mental health. While the context doesn't provide specific details about your current strategies, I can suggest some general methods that could be beneficial. Remember, it's always important to consult with a mental health professional before making significant changes to your mental health plan.\\n\\n1. **Psychotherapy**: This can be an effective approach if you're not already engaged in it. Cognitive Behavioral Therapy (CBT), Dialectical Behavior Therapy (DBT), and Acceptance and Commitment Therapy (ACT) are some evidence-based forms of psychotherapy that can help manage various mental health conditions.\\n\\n2. **Mindfulness and Meditation**: These practices can help reduce stress, improve focus, and enhance emotional wellbeing. They can be practiced alone or as part of a therapy program.\\n\\n3. **Physical Activity**: Regular exercise can have a positive impact on mental health by reducing anxiety and depression symptoms, improving mood, and enhancing cognitive function.\\n\\n4. **Healthy Lifestyle**: This includes a balanced diet, adequate sleep, and reducing or avoiding substances like alcohol, caffeine, and nicotine, which can exacerbate mental health issues.\\n\\n5. **Social Connections**: Building and maintaining healthy relationships can provide emotional support and decrease feelings of isolation.\\n\\n6. **Self-Care**: Engaging in activities that you enjoy and that help you relax can contribute to overall mental wellbeing.\\n\\n7. **Support Groups**: Joining a support group can provide a sense of community and understanding from others who are going through similar experiences.\\n\\n8. **Alternative Therapies**: These can include art therapy, music therapy, equine therapy, and others. While not as extensively researched as some other methods, they can be beneficial for some individuals.\\n\\nRemember, what works best can vary from person to person. It's important to find the right combination of strategies that suits your needs and circumstances.   \n",
       "155                                                                                                                                                                                                                                                                                                                                                                                                                                                                                                                                                                                                                                                                                                                                                                                                                                                                                                                                                                                                                                                                                                                                                                                                                                                                                                                                                                                                                                                                                                                                                                                                                                                                                                                                                                                                                                                                                                                  The context does not provide specific information about the process for making an appointment with a psychiatrist. However, it does mention that Dr. Sarah Johnson is a psychiatrist who works in collaboration with primary care physicians. This might suggest that in the context of this particular mental health practice, a referral from a doctor is needed to see the psychiatrist.\\n\\nHowever, the process can vary depending on the location, healthcare system, and insurance requirements. In some cases, you may be able to make an appointment with a psychiatrist directly. It's best to check with the specific psychiatric practice or your insurance provider to understand the necessary steps.   \n",
       "161                                                                                                                                                                                                                                                                                                                                                                                                                                                                                                                                                                                                                                                                                                                                                                                                                                                                                                                                                                                                                                                                                                                                                                                                                                                                                                                                                                                                                                                                                                                                                                                                                               The context does not provide specific information about the requirements for seeing a psychologist in a particular location or situation. However, in general, the need for a doctor's referral to see a psychologist can vary. In some cases, you may be able to make an appointment with a psychologist without a referral. This is more common in situations where you are paying for the services yourself.\\n\\nOn the other hand, if you are planning to use insurance to cover the cost of psychological services, you may need a referral from your primary care physician or another qualified healthcare provider. This is because many insurance plans require a referral for mental health services to be covered.\\n\\nTo be sure about the requirements in your specific situation, it would be best to contact your insurance provider or the psychologist's office directly. They can provide you with the most accurate and up-to-date information based on your specific circumstances.   \n",
       "189                                                                                                                                                                                                                                                                                                                                                                                                                                                                                                                                                                                                                                                                                                                                                                                                                                                                                                             I'm here to help provide information based on the context you've given. In this case, the context doesn't contain specific resources. However, I can tell you that there are several general resources that can help you cope with depression, low mood, or anxiety caused by a chronic health condition. \\n\\n1. **Therapy or Counseling**: Speaking with a mental health professional can be very beneficial. They can provide strategies to manage your feelings and can help you work through any emotional challenges related to your chronic health condition.\\n\\n2. **Support Groups**: Joining a support group can provide a sense of community and understanding. It can be helpful to connect with others who are going through similar experiences.\\n\\n3. **Online Resources**: There are many online platforms that offer information and resources for managing mental health, including those related to chronic health conditions. Websites like the American Psychological Association (APA), National Alliance on Mental Illness (NAMI), or Mental Health America (MHA) can be good starting points.\\n\\n4. **Mindfulness and Relaxation Techniques**: Practices like meditation, deep breathing, yoga, or progressive muscle relaxation can help reduce anxiety and improve mood.\\n\\n5. **Self-Care**: Regular exercise, a healthy diet, adequate sleep, and engaging in activities you enjoy can contribute to overall well-being and mental health.\\n\\n6. **Medication**: If your symptoms are severe, your healthcare provider may recommend medication as part of your treatment plan.\\n\\nRemember, it's important to consult with a healthcare professional for personalized advice and treatment.   \n",
       "195  The context provided doesn't contain specific tips or resources for cutting back or quitting substance use. However, I can provide general tips and resources based on mental health best practices.\\n\\nTips for Cutting Back or Quitting Substance Use:\\n\\n1. **Set a Clear Goal**: Decide on a specific, achievable goal. This could be reducing your use or quitting entirely. Having a clear objective can help you stay focused and motivated.\\n\\n2. **Seek Professional Help**: Consider consulting with a healthcare provider or a mental health professional. They can provide guidance, support, and potentially medication to help manage withdrawals.\\n\\n3. **Explore Therapy Options**: Cognitive-behavioral therapy (CBT) and motivational interviewing are evidence-based therapies that can help you understand your triggers, develop coping strategies, and increase your motivation to change.\\n\\n4. **Build a Support Network**: Share your goals with trusted friends, family, or support groups. They can provide encouragement, understanding, and help hold you accountable.\\n\\n5. **Manage Stress**: Find healthy ways to cope with stress, such as exercise, meditation, or hobbies. Stress can be a major trigger for substance use.\\n\\n6. **Lifestyle Changes**: Healthy eating, regular exercise, and adequate sleep can improve your overall health and resilience, making it easier to cut back or quit.\\n\\nResources:\\n\\n1. **Substance Abuse and Mental Health Services Administration (SAMHSA)**: SAMHSA provides a confidential helpline (1-800-662-HELP) and a treatment locator tool to find local substance abuse treatment facilities, support groups, and community-based organizations.\\n\\n2. **National Institute on Drug Abuse (NIDA)**: NIDA offers a range of resources, including information on different types of treatment and a guide for finding a quality treatment program.\\n\\n3. **National Institute on Alcohol Abuse and Alcoholism (NIAAA)**: NIAAA provides resources specifically for alcohol use disorder, including a treatment navigator and alcohol treatment toolkit.\\n\\n4. **Smart Recovery**: This is a global community of mutual-support groups where participants help one another resolve problems with any type of addiction.\\n\\n5. **Al-Anon/Alateen**: These are support groups for friends and family of people struggling with alcohol use disorder.\\n\\nRemember, it's important to consult with a healthcare provider before starting any new treatment plan. They can provide personalized advice based on your specific situation and health history.   \n",
       "204                                                                                                                                                                                                                                                                                                                                                                                                                                                                                                                                                                                                                                                                                                                                                                                                                                                                                                                                                                                                                                                                                                                                                                                                                                                                                                                                                                                                                                                                                                                                                                                                                                                                                                                                                                                                                                                                                                                                                                                                                                                                                                                                                                                                  Based on the provided context, the question asks about the duration of Plan G's coverage, but the context does not include specific information on the length of coverage for this plan. Therefore, I cannot provide an exact answer using the given context. Plan G could refer to a variety of plans in different settings, so it is important to refer to the specific documentation or terms of the plan for accurate details.   \n",
       "208                                                                                                                                                                                                                                                                                                                                                                                                                                                                                                                                                                                                                                                                                                                                                                                                                                                                                                                                                                                                                                                                                                                                                                                                                                                                                                                                                                                                                                                                                                                                                                                                                                                                                                                                                                                                                                                                                                                                                                                                                         The context provided does not include specific information on the different income levels for provincial income assistance. Income assistance programs can vary by province, so it would be important to specify the particular region when seeking this information. For example, in British Columbia, the provincial income assistance program has different rates depending on factors such as living situation and disability status. I would recommend checking the official government website of the relevant province for the most accurate and up-to-date information on income assistance levels.   \n",
       "279                                                                                                                                                                                                                                                                                                                                                                                                                                                                                                                                                                                                                                                                                                                                                                                                                                                                                                                                                                                                                                                                                                                                                                                                                                                                                                                                                                                                                                                                                                                                                                                                                                                                                                                                                                                                                                                                                                                                                                                                                                                                                                                 Based on the context provided, there is no specific self-test for depression that also screens for signs of bipolar disorder mentioned. However, the context does mention the Patient Health Questionnaire-9 (PHQ-9) for depression and the Mood Disorder Questionnaire (MDQ) for bipolar disorder as tools used to screen for these conditions. These could be used separately to screen for each disorder, but it would be best to consult with a healthcare provider who can provide a comprehensive assessment.   \n",
       "295                                                                                                                                                                                                                                                                                                                                                                                                                                                                                                                                                                                                                                                                                                                                                                                                                                                                                                                                                                                                                                                                                                                                                         Personality Disorder Not Otherwise Specified (PDD-NOS) is characterized by a long-term pattern of emotions, thoughts, and behaviors that significantly differ from what is expected in an individual's culture, are inflexible, lead to distress or impairment, and are not explained by another mental disorder.\\n\\nThe symptoms of PDD-NOS can vary widely depending on the person, but may include:\\n\\n1. Difficulty forming close relationships\\n2. Difficulty understanding and responding to other people's emotions\\n3. Often see things in black and white categories\\n4. Are rigid and stubborn\\n5. Have intense, unpredictable emotions\\n6. Feel empty or numb inside\\n7. Inability to tolerate being alone\\n8. Have trouble handling criticism and rejection\\n9. Hypersensitivity to environmental factors\\n10. May have an exaggerated or understated response to situations\\n11. Unusual, persistent thoughts or suspicions\\n12. Obsessive actions or repetitive behaviors\\n13. Self-destructive actions, such as self-mutilation\\n14. May experience periods of unusual, sometimes great, productivity\\n15. Difficulty controlling anger\\n16. Impulsive behavior\\n17. May have substance abuse problems\\n18. Depressed mood.\\n\\nIt's important to note that these symptoms must be severe enough to cause significant distress or impairment in social, occupational, or other important areas of functioning in order for a diagnosis of PDD-NOS to be made.   \n",
       "352                                                                                                                                                                                                                                                                                                                                                                                                                                                                                                                                                                                                                                                                                                                                                                                                                                                                                                                                                                                                                                                                                                                                                                                                                                                                                                                                                                                                                                                                                                                                                                                                                                                                                                                                                                                                                               The context does not provide specific information on why the risk of cancer is less for cannabis smokers than tobacco smokers, despite both containing harmful toxins. However, it does mention that cannabis is often smoked in smaller quantities and less frequently than tobacco, which could be a contributing factor. Additionally, cannabis smokers tend to inhale more deeply and hold their breath longer, which leads to a greater deposition of toxic particles in the lung, but fewer overall breaths and less overall exposure. The Science of Marijuana, a book cited in the context, may provide a more detailed explanation. It is also worth noting that research in this area is ongoing and the relationship between cannabis smoking and cancer risk is not yet fully understood.   \n",
       "\n",
       "                                                                                                                                                                                                                                                                                                                                                                                                                                                                                                                                             explanation  \n",
       "5                                                                                                                                                                                        The generated answer is not directly relevant to the question as it does not specify the groups most commonly affected by different mental illnesses based on the provided context. However, the answer does provide general information about various groups that are at a higher risk of mental illnesses due to specific factors, making it partly relevant.  \n",
       "9                                                                                     While the generated answer does not provide a specific age at which individuals are most susceptible to mental illness, it does offer relevant information about the onset of mental illness. According to the answer, half of all mental illnesses begin by the age of 14 and three-quarters of mental illnesses begin by the age of 24. This context helps illustrate that mental illness can affect people at varying ages, which is pertinent to the question.  \n",
       "30   The generated answer does provide some relevant information about the potential causes of mental health conditions. However, it does not directly address the specific cause of the user's illness as requested in the question. The answer could be more relevant if it included a statement acknowledging the inability to provide a specific cause without more information, but then providing some general guidance about possible causes or encouraging the user to consult with a healthcare professional for more personalized information.  \n",
       "41                                                                                                                                                                                                                          The generated answer does not provide specific information about the cause of the user's illness, but it does explain possible causes of mental health conditions in general. The answer encourages the user to consult with a mental health professional for a more accurate assessment, which is appropriate and relevant.  \n",
       "46                                                                                                                                                                                                                                                                                                        The generated answer does not provide specific mental health resources in the user's area as requested, but it does offer a comprehensive list of methods and suggestions to find relevant mental health resources, making it partly relevant.  \n",
       "50                                                                                                                                                                                                                                                                                                 The generated answer does not provide specific information about the medication in question; however, it does offer general advice on how long medications can take to work and how to identify their effects. This makes the answer partly relevant.  \n",
       "58                                                                                                                                                                                 The generated answer does not directly confirm or deny if a doctor's consent is needed for prescription assistance programs. However, it does provide relevant information about the general possibility of such a requirement and suggests consulting the specific program or healthcare provider for accurate details, which shows some connection to the question.  \n",
       "59                                                                                                                                                                                                                                      The answer provides general information about the types of proof that might be required for prescription assistance programs, such as proof of income, insurance coverage, and medical condition. However, it does not provide specific proof requirements for these programs, which is what the question asked.  \n",
       "89                                                                                                                                                       The generated answer is partially relevant as it provides a list of alternative approaches to mental health management. However, it does not directly address the user's question about what to do if the current strategies are not helpful. It could be more relevant by acknowledging the user's specific situation and suggesting adjustments or alternatives to their existing approaches.  \n",
       "155                                                                                                                                                                                              The generated answer provides some relevant information regarding the process of making an appointment with a psychiatrist, acknowledging that it might require a referral from a doctor or could be done directly depending on various factors. However, it does not give a clear, direct answer to the question and leaves it open to interpretation.  \n",
       "161                                                                                                                                                                                                                              The generated answer does provide some relevant information about the general conditions for seeing a psychologist, such as the potential need for a doctor's referral when using insurance. However, it does not give a direct, concise answer to the question 'Do I need a doctor's referral to see a psychologist?'.  \n",
       "189                                                                                                                                                                                                                                                                                           The generated answer is partly relevant because it provides general resources for coping with depression, low mood, or anxiety caused by a chronic health condition. However, it does not provide resources specific to the context given in the question.  \n",
       "195                                                                                                                                                                                                                                   The generated answer itself is not relevant to the question as it does not provide specific tips or resources for cutting back or quitting substance use. However, it acknowledges the lack of relevance in the provided context and offers general tips and resources which are somewhat related to the question.  \n",
       "204                                                                                                                                                                                           The answer is partly relevant because it acknowledges the question's intent and correctly states that the given context doesn't have specific information about Plan G's coverage duration. However, the answer does not provide any additional context or guidance to help narrow down the search for the information, making it only partially relevant.  \n",
       "208                                                                                                                                                                                                                               The generated answer does not provide specific income levels for provincial income assistance, making it only partially relevant. However, it does acknowledge the variability of income assistance programs by province and offers a method for finding the correct information, which adds some value to the answer.  \n",
       "279                                                                                                                                                                                        The answer is partly relevant because it acknowledges the lack of a single self-test for both depression and bipolar disorder. It does provide separate screening tools for each condition, which, while not a combined test, could still be useful to the user. However, it would be more relevant if it directly addressed the combination of both screens.  \n",
       "295                                                                                                                                                                                                                                                                                          The generated answer provides symptoms of PDD-NOS which is a subtype of Personality Disorders. However, it does not explicitly mention the symptoms of Pervasive Developmental Disorder (PDD). Therefore, it is only partly relevant to the question asked.  \n",
       "352                                                                                                                                                                               The generated answer does not directly address the 'why' part of the question. However, it does provide possible contributing factors as to why the risk of cancer might be less for cannabis smokers than tobacco smokers, such as smaller quantities, less frequency, and different inhalation patterns. The answer also acknowledges ongoing research in this area.  "
      ]
     },
     "execution_count": 120,
     "metadata": {},
     "output_type": "execute_result"
    }
   ],
   "source": [
    "partly_relevant_answers[['question','answer','explanation']]"
   ]
  },
  {
   "cell_type": "code",
   "execution_count": 121,
   "metadata": {},
   "outputs": [],
   "source": [
    "df_eval.to_csv('../dataset/rag-eval-mistral.csv', index=False)\n"
   ]
  },
  {
   "cell_type": "markdown",
   "metadata": {},
   "source": [
    "## Evaluating Mistralai Model"
   ]
  },
  {
   "cell_type": "code",
   "execution_count": 135,
   "metadata": {},
   "outputs": [
    {
     "data": {
      "application/vnd.jupyter.widget-view+json": {
       "model_id": "b59934b1d1ed4b0094034147fdbe3b54",
       "version_major": 2,
       "version_minor": 0
      },
      "text/plain": [
       "  0%|          | 0/366 [00:00<?, ?it/s]"
      ]
     },
     "metadata": {},
     "output_type": "display_data"
    }
   ],
   "source": [
    "evaluations_llama = []\n",
    "\n",
    "for record in tqdm(ground_truth):\n",
    "    question = record['question']\n",
    "    answer_llm = rag(question, model='llama3-70b-8192') \n",
    "\n",
    "    prompt = prompt2_template.format(\n",
    "        question=question,\n",
    "        answer_llm=answer_llm\n",
    "    )\n",
    "\n",
    "    evaluation = llm(prompt,model='llama3-70b-8192')\n",
    "    evaluation = json.loads(evaluation)\n",
    "    \n",
    "    evaluations_llama.append((record, answer_llm, evaluation))"
   ]
  },
  {
   "cell_type": "code",
   "execution_count": 137,
   "metadata": {},
   "outputs": [],
   "source": [
    "df_eval_llama = pd.DataFrame(evaluations_llama, columns=['record', 'answer', 'evaluation'])\n",
    "\n",
    "df_eval_llama['id'] = df_eval_llama.record.apply(lambda d: d['id'])\n",
    "df_eval_llama['question'] = df_eval_llama.record.apply(lambda d: d['question'])\n",
    "\n",
    "df_eval_llama['relevance'] = df_eval_llama.evaluation.apply(lambda d: d['Relevance'])\n",
    "df_eval_llama['explanation'] = df_eval_llama.evaluation.apply(lambda d: d['Explanation'])\n",
    "\n",
    "del df_eval_llama['record']\n",
    "del df_eval_llama['evaluation']"
   ]
  },
  {
   "cell_type": "code",
   "execution_count": 140,
   "metadata": {},
   "outputs": [
    {
     "data": {
      "text/html": [
       "<div>\n",
       "<style scoped>\n",
       "    .dataframe tbody tr th:only-of-type {\n",
       "        vertical-align: middle;\n",
       "    }\n",
       "\n",
       "    .dataframe tbody tr th {\n",
       "        vertical-align: top;\n",
       "    }\n",
       "\n",
       "    .dataframe thead th {\n",
       "        text-align: right;\n",
       "    }\n",
       "</style>\n",
       "<table border=\"1\" class=\"dataframe\">\n",
       "  <thead>\n",
       "    <tr style=\"text-align: right;\">\n",
       "      <th></th>\n",
       "      <th>answer</th>\n",
       "      <th>id</th>\n",
       "      <th>question</th>\n",
       "      <th>relevance</th>\n",
       "      <th>explanation</th>\n",
       "    </tr>\n",
       "  </thead>\n",
       "  <tbody>\n",
       "    <tr>\n",
       "      <th>0</th>\n",
       "      <td>Based on the provided context, it is clear that mental illnesses can have a significant impact on a person's daily functioning and relationships.\\n\\nMental illnesses can affect a person's daily functioning in various ways. For instance, they can disrupt a person's ability to perform daily tasks, such as maintaining personal hygiene, cooking, or managing their finances. They can also impair cognitive functioning, leading to difficulties in concentrating, making decisions, or completing tasks. Additionally, mental illnesses can impact a person's sleep patterns, appetite, and energy levels, further compromising their daily functioning.\\n\\nIn terms of relationships, mental illnesses can lead to social withdrawal, making it challenging for individuals to maintain social connections and relationships. They may experience feelings of guilt, shame, or anxiety that prevent them from engaging with friends and family. Mental illnesses can also impact communication skills, leading to misunderstandings, conflicts, or difficulties in expressing emotions. Furthermore, they can strain relationships due to mood swings, irritability, or emotional reactivity.\\n\\nIt is essential to recognize that mental illnesses can vary in severity, and the impact on daily functioning and relationships can differ from person to person. However, with proper treatment, support, and self-care, individuals can learn to manage their symptoms and improve their overall well-being, leading to a more fulfilling daily life and healthier relationships.</td>\n",
       "      <td>1590140</td>\n",
       "      <td>How do mental illnesses affect a person's daily functioning and relationships?</td>\n",
       "      <td>RELEVANT</td>\n",
       "      <td>The generated answer directly addresses the question by providing specific examples of how mental illnesses can affect a person's daily functioning and relationships. It provides a comprehensive and well-structured response that fully covers the scope of the question.</td>\n",
       "    </tr>\n",
       "    <tr>\n",
       "      <th>1</th>\n",
       "      <td>Based on the context provided, some examples of serious mental illnesses that can result in major functional impairment are:\\n\\n* Schizophrenia: A chronic and severe mental disorder that affects how a person thinks, feels, and behaves, often accompanied by hallucinations, delusions, and disorganized speech or behavior.\\n\\n* Bipolar Disorder: A mood disorder characterized by extreme shifts in mood, energy, and activity levels, ranging from severe depression to manic highs, which can impact daily functioning and relationships.\\n\\n* Major Depressive Disorder (MDD): A severe mental health disorder marked by persistent feelings of sadness, hopelessness, and loss of interest in activities, leading to significant impairment in social, occupational, or educational functions.\\n\\n* Post-Traumatic Stress Disorder (PTSD): A condition that develops after a person experiences a traumatic event, leading to symptoms such as flashbacks, nightmares, and avoidance of reminders of the event, which can result in significant impairment in daily life and relationships.\\n\\n* Obsessive-Compulsive Disorder (OCD): A mental health disorder characterized by recurring, intrusive thoughts and compulsions to perform repetitive behaviors, which can interfere with daily functioning, social relationships, and overall well-being.\\n\\nThese serious mental illnesses can significantly impact a person's ability to function in daily life, maintain relationships, and engage in productive activities, leading to major functional impairment if left untreated or undertreated.</td>\n",
       "      <td>1590140</td>\n",
       "      <td>What are some examples of serious mental illnesses that can result in major functional impairment?</td>\n",
       "      <td>RELEVANT</td>\n",
       "      <td>The generated answer provides a list of serious mental illnesses that can result in major functional impairment, directly addressing the question. The answer is comprehensive, well-structured, and provides clear explanations for each example, making it highly relevant to the question.</td>\n",
       "    </tr>\n",
       "    <tr>\n",
       "      <th>2</th>\n",
       "      <td>It is a misconception to associate mental illness with a person's character, intelligence, or willpower because mental health conditions are complex and multifaceted, influenced by a combination of genetic, environmental, and psychological factors. \\n\\nThey are not a result of personal weakness, poor character, or lack of willpower. \\n\\nMental illnesses are legitimate medical conditions that can affect anyone, regardless of their intelligence, personality, or background. \\n\\nThey can be caused by a variety of factors, such as genetics, brain chemistry, trauma, stress, or a combination of these. \\n\\nFurthermore, mental health conditions are often beyond an individual's control and require professional treatment and support to recover. \\n\\nAttributing mental illness to a person's character, intelligence, or willpower can lead to stigma, discrimination, and unfair judgment, which can worsen the condition and prevent individuals from seeking help.</td>\n",
       "      <td>1590140</td>\n",
       "      <td>Why is it a misconception to associate mental illness with a person's character, intelligence, or willpower?</td>\n",
       "      <td>RELEVANT</td>\n",
       "      <td>The generated answer directly addresses the question, explaining why associating mental illness with a person's character, intelligence, or willpower is a misconception, providing evidence and logical reasoning to support the argument.</td>\n",
       "    </tr>\n",
       "  </tbody>\n",
       "</table>\n",
       "</div>"
      ],
      "text/plain": [
       "                                                                                                                                                                                                                                                                                                                                                                                                                                                                                                                                                                                                                                                                                                                                                                                                                                                                                                                                                                                                                                                                                                                                                                                                                                                                                                                                                                                                                                                                                                                                                                                                                answer  \\\n",
       "0                         Based on the provided context, it is clear that mental illnesses can have a significant impact on a person's daily functioning and relationships.\\n\\nMental illnesses can affect a person's daily functioning in various ways. For instance, they can disrupt a person's ability to perform daily tasks, such as maintaining personal hygiene, cooking, or managing their finances. They can also impair cognitive functioning, leading to difficulties in concentrating, making decisions, or completing tasks. Additionally, mental illnesses can impact a person's sleep patterns, appetite, and energy levels, further compromising their daily functioning.\\n\\nIn terms of relationships, mental illnesses can lead to social withdrawal, making it challenging for individuals to maintain social connections and relationships. They may experience feelings of guilt, shame, or anxiety that prevent them from engaging with friends and family. Mental illnesses can also impact communication skills, leading to misunderstandings, conflicts, or difficulties in expressing emotions. Furthermore, they can strain relationships due to mood swings, irritability, or emotional reactivity.\\n\\nIt is essential to recognize that mental illnesses can vary in severity, and the impact on daily functioning and relationships can differ from person to person. However, with proper treatment, support, and self-care, individuals can learn to manage their symptoms and improve their overall well-being, leading to a more fulfilling daily life and healthier relationships.   \n",
       "1  Based on the context provided, some examples of serious mental illnesses that can result in major functional impairment are:\\n\\n* Schizophrenia: A chronic and severe mental disorder that affects how a person thinks, feels, and behaves, often accompanied by hallucinations, delusions, and disorganized speech or behavior.\\n\\n* Bipolar Disorder: A mood disorder characterized by extreme shifts in mood, energy, and activity levels, ranging from severe depression to manic highs, which can impact daily functioning and relationships.\\n\\n* Major Depressive Disorder (MDD): A severe mental health disorder marked by persistent feelings of sadness, hopelessness, and loss of interest in activities, leading to significant impairment in social, occupational, or educational functions.\\n\\n* Post-Traumatic Stress Disorder (PTSD): A condition that develops after a person experiences a traumatic event, leading to symptoms such as flashbacks, nightmares, and avoidance of reminders of the event, which can result in significant impairment in daily life and relationships.\\n\\n* Obsessive-Compulsive Disorder (OCD): A mental health disorder characterized by recurring, intrusive thoughts and compulsions to perform repetitive behaviors, which can interfere with daily functioning, social relationships, and overall well-being.\\n\\nThese serious mental illnesses can significantly impact a person's ability to function in daily life, maintain relationships, and engage in productive activities, leading to major functional impairment if left untreated or undertreated.   \n",
       "2                                                                                                                                                                                                                                                                                                                                                                                                                                                                                                                                                                                                                        It is a misconception to associate mental illness with a person's character, intelligence, or willpower because mental health conditions are complex and multifaceted, influenced by a combination of genetic, environmental, and psychological factors. \\n\\nThey are not a result of personal weakness, poor character, or lack of willpower. \\n\\nMental illnesses are legitimate medical conditions that can affect anyone, regardless of their intelligence, personality, or background. \\n\\nThey can be caused by a variety of factors, such as genetics, brain chemistry, trauma, stress, or a combination of these. \\n\\nFurthermore, mental health conditions are often beyond an individual's control and require professional treatment and support to recover. \\n\\nAttributing mental illness to a person's character, intelligence, or willpower can lead to stigma, discrimination, and unfair judgment, which can worsen the condition and prevent individuals from seeking help.   \n",
       "\n",
       "        id  \\\n",
       "0  1590140   \n",
       "1  1590140   \n",
       "2  1590140   \n",
       "\n",
       "                                                                                                       question  \\\n",
       "0                                How do mental illnesses affect a person's daily functioning and relationships?   \n",
       "1            What are some examples of serious mental illnesses that can result in major functional impairment?   \n",
       "2  Why is it a misconception to associate mental illness with a person's character, intelligence, or willpower?   \n",
       "\n",
       "  relevance  \\\n",
       "0  RELEVANT   \n",
       "1  RELEVANT   \n",
       "2  RELEVANT   \n",
       "\n",
       "                                                                                                                                                                                                                                                                                     explanation  \n",
       "0                   The generated answer directly addresses the question by providing specific examples of how mental illnesses can affect a person's daily functioning and relationships. It provides a comprehensive and well-structured response that fully covers the scope of the question.  \n",
       "1  The generated answer provides a list of serious mental illnesses that can result in major functional impairment, directly addressing the question. The answer is comprehensive, well-structured, and provides clear explanations for each example, making it highly relevant to the question.  \n",
       "2                                                    The generated answer directly addresses the question, explaining why associating mental illness with a person's character, intelligence, or willpower is a misconception, providing evidence and logical reasoning to support the argument.  "
      ]
     },
     "execution_count": 140,
     "metadata": {},
     "output_type": "execute_result"
    }
   ],
   "source": [
    "df_eval_llama.head(3)"
   ]
  },
  {
   "cell_type": "code",
   "execution_count": 141,
   "metadata": {},
   "outputs": [],
   "source": [
    "df_eval_llama.to_csv('../dataset/rag_eval_llama.csv', index=False)\n"
   ]
  },
  {
   "cell_type": "code",
   "execution_count": null,
   "metadata": {},
   "outputs": [],
   "source": []
  }
 ],
 "metadata": {
  "kernelspec": {
   "display_name": "Python 3 (ipykernel)",
   "language": "python",
   "name": "python3"
  },
  "language_info": {
   "codemirror_mode": {
    "name": "ipython",
    "version": 3
   },
   "file_extension": ".py",
   "mimetype": "text/x-python",
   "name": "python",
   "nbconvert_exporter": "python",
   "pygments_lexer": "ipython3",
   "version": "3.9.13"
  }
 },
 "nbformat": 4,
 "nbformat_minor": 4
}
